{
 "cells": [
  {
   "cell_type": "code",
   "execution_count": 15,
   "metadata": {},
   "outputs": [],
   "source": [
    "import backtrader as bt\n",
    "\n",
    "\n",
    "class BuyAndHold_Buy(bt.Strategy):\n",
    "    def start(self):\n",
    "        self.val_start = self.broker.get_cash()  # keep the starting cash\n",
    "\n",
    "    def nextstart(self):\n",
    "        # Buy stocks with all the available cash\n",
    "        size = int(self.val_start / self.data)\n",
    "        self.buy(size=size)\n",
    "\n",
    "    def stop(self):\n",
    "        # calculate the actual returns\n",
    "        self.roi = (self.broker.get_value() / self.val_start) - 1.0\n",
    "        print(\"ROI: %.2f, Cash: %.2f\" % (100.0 * self.roi, self.broker.get_value()))"
   ]
  },
  {
   "cell_type": "code",
   "execution_count": 16,
   "metadata": {},
   "outputs": [
    {
     "name": "stdout",
     "output_type": "stream",
     "text": [
      "ROI: 788.00, Cash: 88800.40\n"
     ]
    },
    {
     "data": {
      "text/plain": [
       "[<__main__.BuyAndHold_Buy at 0x12073a6d0>]"
      ]
     },
     "execution_count": 16,
     "metadata": {},
     "output_type": "execute_result"
    }
   ],
   "source": [
    "from datetime import datetime\n",
    "\n",
    "data = bt.feeds.YahooFinanceData(\n",
    "    dataname=\"MSFT\", fromdate=datetime(2010, 1, 1), todate=datetime(2020, 10, 23)\n",
    ")\n",
    "\n",
    "\n",
    "cerebro = bt.Cerebro()\n",
    "\n",
    "cerebro.adddata(data)\n",
    "\n",
    "cerebro.addstrategy(BuyAndHold_Buy, \"HODL\")\n",
    "\n",
    "# Execute\n",
    "cerebro.run()"
   ]
  },
  {
   "cell_type": "code",
   "execution_count": 17,
   "metadata": {},
   "outputs": [
    {
     "data": {
      "text/plain": [
       "[[<Figure size 2086x1382 with 4 Axes>]]"
      ]
     },
     "execution_count": 17,
     "metadata": {},
     "output_type": "execute_result"
    }
   ],
   "source": [
    "cerebro.plot(iplot=False)"
   ]
  }
 ],
 "metadata": {
  "kernelspec": {
   "display_name": "Python 3",
   "language": "python",
   "name": "python3"
  },
  "language_info": {
   "codemirror_mode": {
    "name": "ipython",
    "version": 3
   },
   "file_extension": ".py",
   "mimetype": "text/x-python",
   "name": "python",
   "nbconvert_exporter": "python",
   "pygments_lexer": "ipython3",
   "version": "3.8.6"
  }
 },
 "nbformat": 4,
 "nbformat_minor": 4
}

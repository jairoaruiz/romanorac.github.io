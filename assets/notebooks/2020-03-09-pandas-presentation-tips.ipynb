{
 "cells": [
  {
   "cell_type": "markdown",
   "metadata": {},
   "source": [
    "# Pandas presentation tips I wish I knew earlier"
   ]
  },
  {
   "cell_type": "markdown",
   "metadata": {},
   "source": [
    "## Setup"
   ]
  },
  {
   "cell_type": "code",
   "execution_count": 1,
   "metadata": {},
   "outputs": [
    {
     "name": "stdout",
     "output_type": "stream",
     "text": [
      "System\n",
      "os name: posix\n",
      "system: Darwin\n",
      "release: 19.2.0\n",
      "\n",
      "Python\n",
      "version: 3.8.0\n",
      "\n",
      "Python Packages\n",
      "jupterlab==1.2.4\n",
      "pandas==1.0.0\n",
      "numpy==1.18.0\n",
      "lxml==4.5.0\n"
     ]
    },
    {
     "name": "stderr",
     "output_type": "stream",
     "text": [
      "/Users/romanorac/.pyenv/versions/3.8.0/envs/r/lib/python3.8/site-packages/pandas/compat/__init__.py:117: UserWarning: Could not import the lzma module. Your installed Python is incomplete. Attempting to use lzma compression will result in a RuntimeError.\n",
      "  warnings.warn(msg)\n"
     ]
    }
   ],
   "source": [
    "import os\n",
    "import platform\n",
    "import random\n",
    "from platform import python_version\n",
    "\n",
    "import jupyterlab\n",
    "import numpy as np\n",
    "import pandas as pd\n",
    "import lxml\n",
    "\n",
    "print(\"System\")\n",
    "print(\"os name: %s\" % os.name)\n",
    "print(\"system: %s\" % platform.system())\n",
    "print(\"release: %s\" % platform.release())\n",
    "print()\n",
    "print(\"Python\")\n",
    "print(\"version: %s\" % python_version())\n",
    "print()\n",
    "print(\"Python Packages\")\n",
    "print(\"jupterlab==%s\" % jupyterlab.__version__)\n",
    "print(\"pandas==%s\" % pd.__version__)\n",
    "print(\"numpy==%s\" % np.__version__)\n",
    "print(\"lxml==%s\" % lxml.__version__)"
   ]
  },
  {
   "cell_type": "code",
   "execution_count": 2,
   "metadata": {},
   "outputs": [
    {
     "data": {
      "text/plain": [
       "(10, 3)"
      ]
     },
     "execution_count": 2,
     "metadata": {},
     "output_type": "execute_result"
    }
   ],
   "source": [
    "n = 10\n",
    "df = pd.DataFrame(\n",
    "    {\n",
    "        \"col1\": np.random.random_sample(n),\n",
    "        \"col2\": np.random.random_sample(n),\n",
    "        \"col3\": [[random.randint(0, 10) for _ in range(random.randint(3, 5))] for _ in range(n)],\n",
    "    }\n",
    ")\n",
    "df.shape"
   ]
  },
  {
   "cell_type": "code",
   "execution_count": 3,
   "metadata": {},
   "outputs": [],
   "source": [
    "df_html = df.to_html()"
   ]
  },
  {
   "cell_type": "code",
   "execution_count": 4,
   "metadata": {},
   "outputs": [],
   "source": [
    "with open('analysis.html', 'w') as f:\n",
    "    f.write(df_html)"
   ]
  },
  {
   "cell_type": "code",
   "execution_count": 17,
   "metadata": {},
   "outputs": [
    {
     "data": {
      "text/plain": [
       "[   Unnamed: 0      col1      col2             col3\n",
       " 0           0  0.579586  0.403048    [0, 1, 10, 8]\n",
       " 1           1  0.670832  0.535344        [5, 1, 4]\n",
       " 2           2  0.941318  0.321249  [9, 4, 2, 6, 8]\n",
       " 3           3  0.527311  0.777454     [3, 4, 9, 0]\n",
       " 4           4  0.263490  0.442874   [10, 9, 2, 10]\n",
       " 5           5  0.242746  0.660936        [2, 7, 0]\n",
       " 6           6  0.067894  0.692753     [2, 3, 8, 5]\n",
       " 7           7  0.481788  0.106727  [0, 5, 7, 3, 8]\n",
       " 8           8  0.757051  0.517097  [1, 9, 4, 3, 5]\n",
       " 9           9  0.105228  0.101313  [6, 0, 8, 6, 8]]"
      ]
     },
     "execution_count": 17,
     "metadata": {},
     "output_type": "execute_result"
    }
   ],
   "source": [
    "df_list = pd.read_html('analysis.html')\n",
    "df_list"
   ]
  },
  {
   "cell_type": "code",
   "execution_count": 18,
   "metadata": {},
   "outputs": [
    {
     "data": {
      "text/plain": [
       "'\\\\begin{tabular}{lrrl}\\n\\\\toprule\\n{} &      col1 &      col2 &             col3 \\\\\\\\\\n\\\\midrule\\n0 &  0.579586 &  0.403048 &    [0, 1, 10, 8] \\\\\\\\\\n1 &  0.670832 &  0.535344 &        [5, 1, 4] \\\\\\\\\\n2 &  0.941318 &  0.321249 &  [9, 4, 2, 6, 8] \\\\\\\\\\n3 &  0.527311 &  0.777454 &     [3, 4, 9, 0] \\\\\\\\\\n4 &  0.263490 &  0.442874 &   [10, 9, 2, 10] \\\\\\\\\\n5 &  0.242746 &  0.660936 &        [2, 7, 0] \\\\\\\\\\n6 &  0.067894 &  0.692753 &     [2, 3, 8, 5] \\\\\\\\\\n7 &  0.481788 &  0.106727 &  [0, 5, 7, 3, 8] \\\\\\\\\\n8 &  0.757051 &  0.517097 &  [1, 9, 4, 3, 5] \\\\\\\\\\n9 &  0.105228 &  0.101313 &  [6, 0, 8, 6, 8] \\\\\\\\\\n\\\\bottomrule\\n\\\\end{tabular}\\n'"
      ]
     },
     "execution_count": 18,
     "metadata": {},
     "output_type": "execute_result"
    }
   ],
   "source": [
    "df.to_latex()"
   ]
  },
  {
   "cell_type": "markdown",
   "metadata": {},
   "source": [
    "You can use it with print to get a nicely formatted output."
   ]
  },
  {
   "cell_type": "code",
   "execution_count": 19,
   "metadata": {},
   "outputs": [
    {
     "name": "stdout",
     "output_type": "stream",
     "text": [
      "\\begin{tabular}{lrrl}\n",
      "\\toprule\n",
      "{} &      col1 &      col2 &             col3 \\\\\n",
      "\\midrule\n",
      "0 &  0.579586 &  0.403048 &    [0, 1, 10, 8] \\\\\n",
      "1 &  0.670832 &  0.535344 &        [5, 1, 4] \\\\\n",
      "2 &  0.941318 &  0.321249 &  [9, 4, 2, 6, 8] \\\\\n",
      "3 &  0.527311 &  0.777454 &     [3, 4, 9, 0] \\\\\n",
      "4 &  0.263490 &  0.442874 &   [10, 9, 2, 10] \\\\\n",
      "5 &  0.242746 &  0.660936 &        [2, 7, 0] \\\\\n",
      "6 &  0.067894 &  0.692753 &     [2, 3, 8, 5] \\\\\n",
      "7 &  0.481788 &  0.106727 &  [0, 5, 7, 3, 8] \\\\\n",
      "8 &  0.757051 &  0.517097 &  [1, 9, 4, 3, 5] \\\\\n",
      "9 &  0.105228 &  0.101313 &  [6, 0, 8, 6, 8] \\\\\n",
      "\\bottomrule\n",
      "\\end{tabular}\n",
      "\n"
     ]
    }
   ],
   "source": [
    "print(df.to_latex())"
   ]
  },
  {
   "cell_type": "code",
   "execution_count": 20,
   "metadata": {},
   "outputs": [
    {
     "name": "stdout",
     "output_type": "stream",
     "text": [
      "|    |      col1 |     col2 | col3            |\n",
      "|---:|----------:|---------:|:----------------|\n",
      "|  0 | 0.579586  | 0.403048 | [0, 1, 10, 8]   |\n",
      "|  1 | 0.670832  | 0.535344 | [5, 1, 4]       |\n",
      "|  2 | 0.941318  | 0.321249 | [9, 4, 2, 6, 8] |\n",
      "|  3 | 0.527311  | 0.777454 | [3, 4, 9, 0]    |\n",
      "|  4 | 0.26349   | 0.442874 | [10, 9, 2, 10]  |\n",
      "|  5 | 0.242746  | 0.660936 | [2, 7, 0]       |\n",
      "|  6 | 0.0678942 | 0.692753 | [2, 3, 8, 5]    |\n",
      "|  7 | 0.481788  | 0.106727 | [0, 5, 7, 3, 8] |\n",
      "|  8 | 0.757051  | 0.517097 | [1, 9, 4, 3, 5] |\n",
      "|  9 | 0.105228  | 0.101313 | [6, 0, 8, 6, 8] |\n"
     ]
    }
   ],
   "source": [
    "print(df.to_markdown())"
   ]
  },
  {
   "cell_type": "code",
   "execution_count": 21,
   "metadata": {},
   "outputs": [],
   "source": [
    "df.to_excel('analysis.xlsx', index=False)"
   ]
  },
  {
   "cell_type": "code",
   "execution_count": 22,
   "metadata": {},
   "outputs": [
    {
     "data": {
      "text/html": [
       "<div>\n",
       "<style scoped>\n",
       "    .dataframe tbody tr th:only-of-type {\n",
       "        vertical-align: middle;\n",
       "    }\n",
       "\n",
       "    .dataframe tbody tr th {\n",
       "        vertical-align: top;\n",
       "    }\n",
       "\n",
       "    .dataframe thead th {\n",
       "        text-align: right;\n",
       "    }\n",
       "</style>\n",
       "<table border=\"1\" class=\"dataframe\">\n",
       "  <thead>\n",
       "    <tr style=\"text-align: right;\">\n",
       "      <th></th>\n",
       "      <th>col1</th>\n",
       "      <th>col2</th>\n",
       "      <th>col3</th>\n",
       "    </tr>\n",
       "  </thead>\n",
       "  <tbody>\n",
       "    <tr>\n",
       "      <th>0</th>\n",
       "      <td>0.579586</td>\n",
       "      <td>0.403048</td>\n",
       "      <td>[0, 1, 10, 8]</td>\n",
       "    </tr>\n",
       "    <tr>\n",
       "      <th>1</th>\n",
       "      <td>0.670832</td>\n",
       "      <td>0.535344</td>\n",
       "      <td>[5, 1, 4]</td>\n",
       "    </tr>\n",
       "    <tr>\n",
       "      <th>2</th>\n",
       "      <td>0.941318</td>\n",
       "      <td>0.321249</td>\n",
       "      <td>[9, 4, 2, 6, 8]</td>\n",
       "    </tr>\n",
       "    <tr>\n",
       "      <th>3</th>\n",
       "      <td>0.527311</td>\n",
       "      <td>0.777454</td>\n",
       "      <td>[3, 4, 9, 0]</td>\n",
       "    </tr>\n",
       "    <tr>\n",
       "      <th>4</th>\n",
       "      <td>0.263490</td>\n",
       "      <td>0.442874</td>\n",
       "      <td>[10, 9, 2, 10]</td>\n",
       "    </tr>\n",
       "    <tr>\n",
       "      <th>5</th>\n",
       "      <td>0.242746</td>\n",
       "      <td>0.660936</td>\n",
       "      <td>[2, 7, 0]</td>\n",
       "    </tr>\n",
       "    <tr>\n",
       "      <th>6</th>\n",
       "      <td>0.067894</td>\n",
       "      <td>0.692753</td>\n",
       "      <td>[2, 3, 8, 5]</td>\n",
       "    </tr>\n",
       "    <tr>\n",
       "      <th>7</th>\n",
       "      <td>0.481788</td>\n",
       "      <td>0.106727</td>\n",
       "      <td>[0, 5, 7, 3, 8]</td>\n",
       "    </tr>\n",
       "    <tr>\n",
       "      <th>8</th>\n",
       "      <td>0.757051</td>\n",
       "      <td>0.517097</td>\n",
       "      <td>[1, 9, 4, 3, 5]</td>\n",
       "    </tr>\n",
       "    <tr>\n",
       "      <th>9</th>\n",
       "      <td>0.105228</td>\n",
       "      <td>0.101313</td>\n",
       "      <td>[6, 0, 8, 6, 8]</td>\n",
       "    </tr>\n",
       "  </tbody>\n",
       "</table>\n",
       "</div>"
      ],
      "text/plain": [
       "       col1      col2             col3\n",
       "0  0.579586  0.403048    [0, 1, 10, 8]\n",
       "1  0.670832  0.535344        [5, 1, 4]\n",
       "2  0.941318  0.321249  [9, 4, 2, 6, 8]\n",
       "3  0.527311  0.777454     [3, 4, 9, 0]\n",
       "4  0.263490  0.442874   [10, 9, 2, 10]\n",
       "5  0.242746  0.660936        [2, 7, 0]\n",
       "6  0.067894  0.692753     [2, 3, 8, 5]\n",
       "7  0.481788  0.106727  [0, 5, 7, 3, 8]\n",
       "8  0.757051  0.517097  [1, 9, 4, 3, 5]\n",
       "9  0.105228  0.101313  [6, 0, 8, 6, 8]"
      ]
     },
     "execution_count": 22,
     "metadata": {},
     "output_type": "execute_result"
    }
   ],
   "source": [
    "pd.read_excel('analysis.xlsx')"
   ]
  },
  {
   "cell_type": "code",
   "execution_count": 24,
   "metadata": {},
   "outputs": [
    {
     "name": "stdout",
     "output_type": "stream",
     "text": [
      "       col1      col2             col3\n",
      "0  0.579586  0.403048    [0, 1, 10, 8]\n",
      "1  0.670832  0.535344        [5, 1, 4]\n",
      "2  0.941318  0.321249  [9, 4, 2, 6, 8]\n",
      "3  0.527311  0.777454     [3, 4, 9, 0]\n",
      "4  0.263490  0.442874   [10, 9, 2, 10]\n",
      "5  0.242746  0.660936        [2, 7, 0]\n",
      "6  0.067894  0.692753     [2, 3, 8, 5]\n",
      "7  0.481788  0.106727  [0, 5, 7, 3, 8]\n",
      "8  0.757051  0.517097  [1, 9, 4, 3, 5]\n",
      "9  0.105228  0.101313  [6, 0, 8, 6, 8]\n"
     ]
    }
   ],
   "source": [
    "print(df.to_string())"
   ]
  }
 ],
 "metadata": {
  "kernelspec": {
   "display_name": "Python 3",
   "language": "python",
   "name": "python3"
  },
  "language_info": {
   "codemirror_mode": {
    "name": "ipython",
    "version": 3
   },
   "file_extension": ".py",
   "mimetype": "text/x-python",
   "name": "python",
   "nbconvert_exporter": "python",
   "pygments_lexer": "ipython3",
   "version": "3.8.0"
  }
 },
 "nbformat": 4,
 "nbformat_minor": 4
}

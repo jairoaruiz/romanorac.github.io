{
 "cells": [
  {
   "cell_type": "markdown",
   "metadata": {},
   "source": [
    "# 5 lesser-known pandas tricks"
   ]
  },
  {
   "cell_type": "code",
   "execution_count": 1,
   "metadata": {},
   "outputs": [],
   "source": [
    "from platform import python_version\n",
    "\n",
    "import pandas as pd\n",
    "import xlsxwriter"
   ]
  },
  {
   "cell_type": "markdown",
   "metadata": {},
   "source": [
    "## Setup"
   ]
  },
  {
   "cell_type": "code",
   "execution_count": 2,
   "metadata": {},
   "outputs": [
    {
     "name": "stdout",
     "output_type": "stream",
     "text": [
      "python version==3.7.3\n",
      "pandas==0.25.3\n",
      "xlsxwriter==1.2.6\n"
     ]
    }
   ],
   "source": [
    "print(\"python version==%s\" % python_version())\n",
    "print(\"pandas==%s\" % pd.__version__)\n",
    "print(\"xlsxwriter==%s\" % xlsxwriter.__version__)"
   ]
  },
  {
   "cell_type": "markdown",
   "metadata": {},
   "source": [
    "## Date Ranges"
   ]
  },
  {
   "cell_type": "code",
   "execution_count": 3,
   "metadata": {},
   "outputs": [
    {
     "data": {
      "text/plain": [
       "DatetimeIndex(['2019-01-01', '2019-01-02', '2019-01-03', '2019-01-04',\n",
       "               '2019-01-05', '2019-01-06', '2019-01-07', '2019-01-08',\n",
       "               '2019-01-09', '2019-01-10', '2019-01-11', '2019-01-12'],\n",
       "              dtype='datetime64[ns]', freq='D')"
      ]
     },
     "execution_count": 3,
     "metadata": {},
     "output_type": "execute_result"
    }
   ],
   "source": [
    "date_from = \"2019-01-01\"\n",
    "date_to = \"2019-01-12\"\n",
    "date_range = pd.date_range(date_from, date_to, freq=\"D\")\n",
    "date_range"
   ]
  },
  {
   "cell_type": "code",
   "execution_count": 4,
   "metadata": {},
   "outputs": [
    {
     "name": "stdout",
     "output_type": "stream",
     "text": [
      "1. date_from: 2019-01-01, date_to: 2019-01-02\n",
      "2. date_from: 2019-01-02, date_to: 2019-01-03\n",
      "3. date_from: 2019-01-03, date_to: 2019-01-04\n",
      "4. date_from: 2019-01-04, date_to: 2019-01-05\n",
      "5. date_from: 2019-01-05, date_to: 2019-01-06\n",
      "6. date_from: 2019-01-06, date_to: 2019-01-07\n",
      "7. date_from: 2019-01-07, date_to: 2019-01-08\n",
      "8. date_from: 2019-01-08, date_to: 2019-01-09\n",
      "9. date_from: 2019-01-09, date_to: 2019-01-10\n",
      "10. date_from: 2019-01-10, date_to: 2019-01-11\n",
      "11. date_from: 2019-01-11, date_to: 2019-01-12\n"
     ]
    }
   ],
   "source": [
    "for i, (date_from, date_to) in enumerate(zip(date_range[:-1], date_range[1:]), 1):\n",
    "    date_from = date_from.date().isoformat()\n",
    "    date_to = date_to.date().isoformat()\n",
    "    print(\"%d. date_from: %s, date_to: %s\" % (i, date_from, date_to))"
   ]
  },
  {
   "cell_type": "markdown",
   "metadata": {},
   "source": [
    "## Merge with indicator"
   ]
  },
  {
   "cell_type": "code",
   "execution_count": 5,
   "metadata": {},
   "outputs": [
    {
     "data": {
      "text/html": [
       "<div>\n",
       "<style scoped>\n",
       "    .dataframe tbody tr th:only-of-type {\n",
       "        vertical-align: middle;\n",
       "    }\n",
       "\n",
       "    .dataframe tbody tr th {\n",
       "        vertical-align: top;\n",
       "    }\n",
       "\n",
       "    .dataframe thead th {\n",
       "        text-align: right;\n",
       "    }\n",
       "</style>\n",
       "<table border=\"1\" class=\"dataframe\">\n",
       "  <thead>\n",
       "    <tr style=\"text-align: right;\">\n",
       "      <th></th>\n",
       "      <th>key</th>\n",
       "      <th>value_l</th>\n",
       "    </tr>\n",
       "  </thead>\n",
       "  <tbody>\n",
       "    <tr>\n",
       "      <th>0</th>\n",
       "      <td>key1</td>\n",
       "      <td>1</td>\n",
       "    </tr>\n",
       "    <tr>\n",
       "      <th>1</th>\n",
       "      <td>key2</td>\n",
       "      <td>2</td>\n",
       "    </tr>\n",
       "    <tr>\n",
       "      <th>2</th>\n",
       "      <td>key3</td>\n",
       "      <td>3</td>\n",
       "    </tr>\n",
       "    <tr>\n",
       "      <th>3</th>\n",
       "      <td>key4</td>\n",
       "      <td>4</td>\n",
       "    </tr>\n",
       "  </tbody>\n",
       "</table>\n",
       "</div>"
      ],
      "text/plain": [
       "    key  value_l\n",
       "0  key1        1\n",
       "1  key2        2\n",
       "2  key3        3\n",
       "3  key4        4"
      ]
     },
     "execution_count": 5,
     "metadata": {},
     "output_type": "execute_result"
    }
   ],
   "source": [
    "left = pd.DataFrame({\"key\": [\"key1\", \"key2\", \"key3\", \"key4\"], \"value_l\": [1, 2, 3, 4]})\n",
    "left"
   ]
  },
  {
   "cell_type": "code",
   "execution_count": 6,
   "metadata": {},
   "outputs": [
    {
     "data": {
      "text/html": [
       "<div>\n",
       "<style scoped>\n",
       "    .dataframe tbody tr th:only-of-type {\n",
       "        vertical-align: middle;\n",
       "    }\n",
       "\n",
       "    .dataframe tbody tr th {\n",
       "        vertical-align: top;\n",
       "    }\n",
       "\n",
       "    .dataframe thead th {\n",
       "        text-align: right;\n",
       "    }\n",
       "</style>\n",
       "<table border=\"1\" class=\"dataframe\">\n",
       "  <thead>\n",
       "    <tr style=\"text-align: right;\">\n",
       "      <th></th>\n",
       "      <th>key</th>\n",
       "      <th>value_r</th>\n",
       "    </tr>\n",
       "  </thead>\n",
       "  <tbody>\n",
       "    <tr>\n",
       "      <th>0</th>\n",
       "      <td>key3</td>\n",
       "      <td>3</td>\n",
       "    </tr>\n",
       "    <tr>\n",
       "      <th>1</th>\n",
       "      <td>key2</td>\n",
       "      <td>2</td>\n",
       "    </tr>\n",
       "    <tr>\n",
       "      <th>2</th>\n",
       "      <td>key1</td>\n",
       "      <td>1</td>\n",
       "    </tr>\n",
       "    <tr>\n",
       "      <th>3</th>\n",
       "      <td>key6</td>\n",
       "      <td>6</td>\n",
       "    </tr>\n",
       "  </tbody>\n",
       "</table>\n",
       "</div>"
      ],
      "text/plain": [
       "    key  value_r\n",
       "0  key3        3\n",
       "1  key2        2\n",
       "2  key1        1\n",
       "3  key6        6"
      ]
     },
     "execution_count": 6,
     "metadata": {},
     "output_type": "execute_result"
    }
   ],
   "source": [
    "right = pd.DataFrame({\"key\": [\"key3\", \"key2\", \"key1\", \"key6\"], \"value_r\": [3, 2, 1, 6]})\n",
    "right"
   ]
  },
  {
   "cell_type": "code",
   "execution_count": 7,
   "metadata": {},
   "outputs": [
    {
     "data": {
      "text/html": [
       "<div>\n",
       "<style scoped>\n",
       "    .dataframe tbody tr th:only-of-type {\n",
       "        vertical-align: middle;\n",
       "    }\n",
       "\n",
       "    .dataframe tbody tr th {\n",
       "        vertical-align: top;\n",
       "    }\n",
       "\n",
       "    .dataframe thead th {\n",
       "        text-align: right;\n",
       "    }\n",
       "</style>\n",
       "<table border=\"1\" class=\"dataframe\">\n",
       "  <thead>\n",
       "    <tr style=\"text-align: right;\">\n",
       "      <th></th>\n",
       "      <th>key</th>\n",
       "      <th>value_l</th>\n",
       "      <th>value_r</th>\n",
       "      <th>_merge</th>\n",
       "    </tr>\n",
       "  </thead>\n",
       "  <tbody>\n",
       "    <tr>\n",
       "      <th>0</th>\n",
       "      <td>key1</td>\n",
       "      <td>1</td>\n",
       "      <td>1.0</td>\n",
       "      <td>both</td>\n",
       "    </tr>\n",
       "    <tr>\n",
       "      <th>1</th>\n",
       "      <td>key2</td>\n",
       "      <td>2</td>\n",
       "      <td>2.0</td>\n",
       "      <td>both</td>\n",
       "    </tr>\n",
       "    <tr>\n",
       "      <th>2</th>\n",
       "      <td>key3</td>\n",
       "      <td>3</td>\n",
       "      <td>3.0</td>\n",
       "      <td>both</td>\n",
       "    </tr>\n",
       "    <tr>\n",
       "      <th>3</th>\n",
       "      <td>key4</td>\n",
       "      <td>4</td>\n",
       "      <td>NaN</td>\n",
       "      <td>left_only</td>\n",
       "    </tr>\n",
       "  </tbody>\n",
       "</table>\n",
       "</div>"
      ],
      "text/plain": [
       "    key  value_l  value_r     _merge\n",
       "0  key1        1      1.0       both\n",
       "1  key2        2      2.0       both\n",
       "2  key3        3      3.0       both\n",
       "3  key4        4      NaN  left_only"
      ]
     },
     "execution_count": 7,
     "metadata": {},
     "output_type": "execute_result"
    }
   ],
   "source": [
    "df_merge = left.merge(right, on='key', how='left', indicator=True)\n",
    "df_merge"
   ]
  },
  {
   "cell_type": "code",
   "execution_count": 8,
   "metadata": {},
   "outputs": [
    {
     "data": {
      "text/plain": [
       "both          3\n",
       "left_only     1\n",
       "right_only    0\n",
       "Name: _merge, dtype: int64"
      ]
     },
     "execution_count": 8,
     "metadata": {},
     "output_type": "execute_result"
    }
   ],
   "source": [
    "df_merge._merge.value_counts()"
   ]
  },
  {
   "cell_type": "markdown",
   "metadata": {},
   "source": [
    "## Nearest merge"
   ]
  },
  {
   "cell_type": "code",
   "execution_count": 9,
   "metadata": {},
   "outputs": [
    {
     "data": {
      "text/plain": [
       "(8, 4)"
      ]
     },
     "execution_count": 9,
     "metadata": {},
     "output_type": "execute_result"
    }
   ],
   "source": [
    "quotes = pd.DataFrame(\n",
    "    [\n",
    "        [\"2016-05-25 13:30:00.023\", \"GOOG\", 720.50, 720.93],\n",
    "        [\"2016-05-25 13:30:00.023\", \"MSFT\", 51.95, 51.96],\n",
    "        [\"2016-05-25 13:30:00.030\", \"MSFT\", 51.97, 51.98],\n",
    "        [\"2016-05-25 13:30:00.041\", \"MSFT\", 51.99, 52.00],\n",
    "        [\"2016-05-25 13:30:00.048\", \"GOOG\", 720.50, 720.93],\n",
    "        [\"2016-05-25 13:30:00.049\", \"AAPL\", 97.99, 98.01],\n",
    "        [\"2016-05-25 13:30:00.072\", \"GOOG\", 720.50, 720.88],\n",
    "        [\"2016-05-25 13:30:00.075\", \"MSFT\", 52.01, 52.03],\n",
    "    ],\n",
    "    columns=[\"timestamp\", \"ticker\", \"bid\", \"ask\"],\n",
    ")\n",
    "quotes['timestamp'] = pd.to_datetime(quotes['timestamp'])\n",
    "quotes.shape"
   ]
  },
  {
   "cell_type": "code",
   "execution_count": 10,
   "metadata": {},
   "outputs": [
    {
     "data": {
      "text/html": [
       "<div>\n",
       "<style scoped>\n",
       "    .dataframe tbody tr th:only-of-type {\n",
       "        vertical-align: middle;\n",
       "    }\n",
       "\n",
       "    .dataframe tbody tr th {\n",
       "        vertical-align: top;\n",
       "    }\n",
       "\n",
       "    .dataframe thead th {\n",
       "        text-align: right;\n",
       "    }\n",
       "</style>\n",
       "<table border=\"1\" class=\"dataframe\">\n",
       "  <thead>\n",
       "    <tr style=\"text-align: right;\">\n",
       "      <th></th>\n",
       "      <th>timestamp</th>\n",
       "      <th>ticker</th>\n",
       "      <th>bid</th>\n",
       "      <th>ask</th>\n",
       "    </tr>\n",
       "  </thead>\n",
       "  <tbody>\n",
       "    <tr>\n",
       "      <th>0</th>\n",
       "      <td>2016-05-25 13:30:00.023</td>\n",
       "      <td>GOOG</td>\n",
       "      <td>720.50</td>\n",
       "      <td>720.93</td>\n",
       "    </tr>\n",
       "    <tr>\n",
       "      <th>1</th>\n",
       "      <td>2016-05-25 13:30:00.023</td>\n",
       "      <td>MSFT</td>\n",
       "      <td>51.95</td>\n",
       "      <td>51.96</td>\n",
       "    </tr>\n",
       "    <tr>\n",
       "      <th>2</th>\n",
       "      <td>2016-05-25 13:30:00.030</td>\n",
       "      <td>MSFT</td>\n",
       "      <td>51.97</td>\n",
       "      <td>51.98</td>\n",
       "    </tr>\n",
       "    <tr>\n",
       "      <th>3</th>\n",
       "      <td>2016-05-25 13:30:00.041</td>\n",
       "      <td>MSFT</td>\n",
       "      <td>51.99</td>\n",
       "      <td>52.00</td>\n",
       "    </tr>\n",
       "    <tr>\n",
       "      <th>4</th>\n",
       "      <td>2016-05-25 13:30:00.048</td>\n",
       "      <td>GOOG</td>\n",
       "      <td>720.50</td>\n",
       "      <td>720.93</td>\n",
       "    </tr>\n",
       "    <tr>\n",
       "      <th>5</th>\n",
       "      <td>2016-05-25 13:30:00.049</td>\n",
       "      <td>AAPL</td>\n",
       "      <td>97.99</td>\n",
       "      <td>98.01</td>\n",
       "    </tr>\n",
       "    <tr>\n",
       "      <th>6</th>\n",
       "      <td>2016-05-25 13:30:00.072</td>\n",
       "      <td>GOOG</td>\n",
       "      <td>720.50</td>\n",
       "      <td>720.88</td>\n",
       "    </tr>\n",
       "    <tr>\n",
       "      <th>7</th>\n",
       "      <td>2016-05-25 13:30:00.075</td>\n",
       "      <td>MSFT</td>\n",
       "      <td>52.01</td>\n",
       "      <td>52.03</td>\n",
       "    </tr>\n",
       "  </tbody>\n",
       "</table>\n",
       "</div>"
      ],
      "text/plain": [
       "                timestamp ticker     bid     ask\n",
       "0 2016-05-25 13:30:00.023   GOOG  720.50  720.93\n",
       "1 2016-05-25 13:30:00.023   MSFT   51.95   51.96\n",
       "2 2016-05-25 13:30:00.030   MSFT   51.97   51.98\n",
       "3 2016-05-25 13:30:00.041   MSFT   51.99   52.00\n",
       "4 2016-05-25 13:30:00.048   GOOG  720.50  720.93\n",
       "5 2016-05-25 13:30:00.049   AAPL   97.99   98.01\n",
       "6 2016-05-25 13:30:00.072   GOOG  720.50  720.88\n",
       "7 2016-05-25 13:30:00.075   MSFT   52.01   52.03"
      ]
     },
     "execution_count": 10,
     "metadata": {},
     "output_type": "execute_result"
    }
   ],
   "source": [
    "quotes"
   ]
  },
  {
   "cell_type": "code",
   "execution_count": 11,
   "metadata": {},
   "outputs": [
    {
     "data": {
      "text/plain": [
       "(5, 4)"
      ]
     },
     "execution_count": 11,
     "metadata": {},
     "output_type": "execute_result"
    }
   ],
   "source": [
    "trades = pd.DataFrame(\n",
    "    [\n",
    "        [\"2016-05-25 13:30:00.023\", \"MSFT\", 51.95, 75],\n",
    "        [\"2016-05-25 13:30:00.038\", \"MSFT\", 51.95, 155],\n",
    "        [\"2016-05-25 13:30:00.048\", \"GOOG\", 720.77, 100],\n",
    "        [\"2016-05-25 13:30:00.048\", \"GOOG\", 720.92, 100],\n",
    "        [\"2016-05-25 13:30:00.048\", \"AAPL\", 98.00, 100],\n",
    "    ],\n",
    "    columns=[\"timestamp\", \"ticker\", \"price\", \"quantity\"],\n",
    ")\n",
    "trades['timestamp'] = pd.to_datetime(trades['timestamp'])\n",
    "trades.shape"
   ]
  },
  {
   "cell_type": "code",
   "execution_count": 12,
   "metadata": {},
   "outputs": [
    {
     "data": {
      "text/html": [
       "<div>\n",
       "<style scoped>\n",
       "    .dataframe tbody tr th:only-of-type {\n",
       "        vertical-align: middle;\n",
       "    }\n",
       "\n",
       "    .dataframe tbody tr th {\n",
       "        vertical-align: top;\n",
       "    }\n",
       "\n",
       "    .dataframe thead th {\n",
       "        text-align: right;\n",
       "    }\n",
       "</style>\n",
       "<table border=\"1\" class=\"dataframe\">\n",
       "  <thead>\n",
       "    <tr style=\"text-align: right;\">\n",
       "      <th></th>\n",
       "      <th>timestamp</th>\n",
       "      <th>ticker</th>\n",
       "      <th>price</th>\n",
       "      <th>quantity</th>\n",
       "    </tr>\n",
       "  </thead>\n",
       "  <tbody>\n",
       "    <tr>\n",
       "      <th>0</th>\n",
       "      <td>2016-05-25 13:30:00.023</td>\n",
       "      <td>MSFT</td>\n",
       "      <td>51.95</td>\n",
       "      <td>75</td>\n",
       "    </tr>\n",
       "    <tr>\n",
       "      <th>1</th>\n",
       "      <td>2016-05-25 13:30:00.038</td>\n",
       "      <td>MSFT</td>\n",
       "      <td>51.95</td>\n",
       "      <td>155</td>\n",
       "    </tr>\n",
       "    <tr>\n",
       "      <th>2</th>\n",
       "      <td>2016-05-25 13:30:00.048</td>\n",
       "      <td>GOOG</td>\n",
       "      <td>720.77</td>\n",
       "      <td>100</td>\n",
       "    </tr>\n",
       "    <tr>\n",
       "      <th>3</th>\n",
       "      <td>2016-05-25 13:30:00.048</td>\n",
       "      <td>GOOG</td>\n",
       "      <td>720.92</td>\n",
       "      <td>100</td>\n",
       "    </tr>\n",
       "    <tr>\n",
       "      <th>4</th>\n",
       "      <td>2016-05-25 13:30:00.048</td>\n",
       "      <td>AAPL</td>\n",
       "      <td>98.00</td>\n",
       "      <td>100</td>\n",
       "    </tr>\n",
       "  </tbody>\n",
       "</table>\n",
       "</div>"
      ],
      "text/plain": [
       "                timestamp ticker   price  quantity\n",
       "0 2016-05-25 13:30:00.023   MSFT   51.95        75\n",
       "1 2016-05-25 13:30:00.038   MSFT   51.95       155\n",
       "2 2016-05-25 13:30:00.048   GOOG  720.77       100\n",
       "3 2016-05-25 13:30:00.048   GOOG  720.92       100\n",
       "4 2016-05-25 13:30:00.048   AAPL   98.00       100"
      ]
     },
     "execution_count": 12,
     "metadata": {},
     "output_type": "execute_result"
    }
   ],
   "source": [
    "trades.head()"
   ]
  },
  {
   "cell_type": "code",
   "execution_count": 13,
   "metadata": {},
   "outputs": [
    {
     "data": {
      "text/html": [
       "<div>\n",
       "<style scoped>\n",
       "    .dataframe tbody tr th:only-of-type {\n",
       "        vertical-align: middle;\n",
       "    }\n",
       "\n",
       "    .dataframe tbody tr th {\n",
       "        vertical-align: top;\n",
       "    }\n",
       "\n",
       "    .dataframe thead th {\n",
       "        text-align: right;\n",
       "    }\n",
       "</style>\n",
       "<table border=\"1\" class=\"dataframe\">\n",
       "  <thead>\n",
       "    <tr style=\"text-align: right;\">\n",
       "      <th></th>\n",
       "      <th>timestamp</th>\n",
       "      <th>ticker</th>\n",
       "      <th>price</th>\n",
       "      <th>quantity</th>\n",
       "      <th>bid</th>\n",
       "      <th>ask</th>\n",
       "    </tr>\n",
       "  </thead>\n",
       "  <tbody>\n",
       "    <tr>\n",
       "      <th>0</th>\n",
       "      <td>2016-05-25 13:30:00.023</td>\n",
       "      <td>MSFT</td>\n",
       "      <td>51.95</td>\n",
       "      <td>75</td>\n",
       "      <td>51.95</td>\n",
       "      <td>51.96</td>\n",
       "    </tr>\n",
       "    <tr>\n",
       "      <th>1</th>\n",
       "      <td>2016-05-25 13:30:00.038</td>\n",
       "      <td>MSFT</td>\n",
       "      <td>51.95</td>\n",
       "      <td>155</td>\n",
       "      <td>51.97</td>\n",
       "      <td>51.98</td>\n",
       "    </tr>\n",
       "    <tr>\n",
       "      <th>2</th>\n",
       "      <td>2016-05-25 13:30:00.048</td>\n",
       "      <td>GOOG</td>\n",
       "      <td>720.77</td>\n",
       "      <td>100</td>\n",
       "      <td>720.50</td>\n",
       "      <td>720.93</td>\n",
       "    </tr>\n",
       "    <tr>\n",
       "      <th>3</th>\n",
       "      <td>2016-05-25 13:30:00.048</td>\n",
       "      <td>GOOG</td>\n",
       "      <td>720.92</td>\n",
       "      <td>100</td>\n",
       "      <td>720.50</td>\n",
       "      <td>720.93</td>\n",
       "    </tr>\n",
       "    <tr>\n",
       "      <th>4</th>\n",
       "      <td>2016-05-25 13:30:00.048</td>\n",
       "      <td>AAPL</td>\n",
       "      <td>98.00</td>\n",
       "      <td>100</td>\n",
       "      <td>NaN</td>\n",
       "      <td>NaN</td>\n",
       "    </tr>\n",
       "  </tbody>\n",
       "</table>\n",
       "</div>"
      ],
      "text/plain": [
       "                timestamp ticker   price  quantity     bid     ask\n",
       "0 2016-05-25 13:30:00.023   MSFT   51.95        75   51.95   51.96\n",
       "1 2016-05-25 13:30:00.038   MSFT   51.95       155   51.97   51.98\n",
       "2 2016-05-25 13:30:00.048   GOOG  720.77       100  720.50  720.93\n",
       "3 2016-05-25 13:30:00.048   GOOG  720.92       100  720.50  720.93\n",
       "4 2016-05-25 13:30:00.048   AAPL   98.00       100     NaN     NaN"
      ]
     },
     "execution_count": 13,
     "metadata": {},
     "output_type": "execute_result"
    }
   ],
   "source": [
    "pd.merge_asof(trades, quotes, on=\"timestamp\", by='ticker', tolerance=pd.Timedelta('10ms'), direction='backward')"
   ]
  },
  {
   "cell_type": "markdown",
   "metadata": {},
   "source": [
    "## Create an Excel report"
   ]
  },
  {
   "cell_type": "code",
   "execution_count": 14,
   "metadata": {},
   "outputs": [
    {
     "data": {
      "text/plain": [
       "(3, 3)"
      ]
     },
     "execution_count": 14,
     "metadata": {},
     "output_type": "execute_result"
    }
   ],
   "source": [
    "df = pd.DataFrame(pd.np.array([[1, 2, 3], [4, 5, 6], [7, 8, 9]]), columns=[\"a\", \"b\", \"c\"])\n",
    "df.shape"
   ]
  },
  {
   "cell_type": "code",
   "execution_count": 15,
   "metadata": {},
   "outputs": [],
   "source": [
    "report_name = 'example_report.xlsx'\n",
    "sheet_name = 'Sheet1'\n",
    "\n",
    "writer = pd.ExcelWriter(report_name, engine='xlsxwriter')\n",
    "df.to_excel(writer, sheet_name=sheet_name, index=False)\n",
    "# writer.save() "
   ]
  },
  {
   "cell_type": "code",
   "execution_count": 16,
   "metadata": {},
   "outputs": [],
   "source": [
    "# define the workbook\n",
    "workbook = writer.book\n",
    "worksheet = writer.sheets[sheet_name]\n",
    "\n",
    "# create a chart line object\n",
    "chart = workbook.add_chart({'type': 'line'})\n",
    "\n",
    "# configure the series of the chart from the spreadsheet\n",
    "# using a list of values instead of category/value formulas:\n",
    "#     [sheetname, first_row, first_col, last_row, last_col]\n",
    "chart.add_series({\n",
    "    'categories': [sheet_name, 1, 0, 3, 0],\n",
    "    'values':     [sheet_name, 1, 1, 3, 1],\n",
    "})\n",
    "\n",
    "# configure the chart axes\n",
    "chart.set_x_axis({'name': 'Index', 'position_axis': 'on_tick'})\n",
    "chart.set_y_axis({'name': 'Value', 'major_gridlines': {'visible': False}})\n",
    "\n",
    "# place the chart on the worksheet\n",
    "worksheet.insert_chart('E2', chart)\n",
    "\n",
    "# output the excel file\n",
    "writer.save()"
   ]
  },
  {
   "cell_type": "markdown",
   "metadata": {},
   "source": [
    "## Save the disk space"
   ]
  },
  {
   "cell_type": "code",
   "execution_count": 17,
   "metadata": {},
   "outputs": [
    {
     "data": {
      "text/plain": [
       "(50000, 300)"
      ]
     },
     "execution_count": 17,
     "metadata": {},
     "output_type": "execute_result"
    }
   ],
   "source": [
    "df = pd.DataFrame(pd.np.random.randn(50000,300))\n",
    "df.shape"
   ]
  },
  {
   "cell_type": "code",
   "execution_count": 18,
   "metadata": {},
   "outputs": [
    {
     "data": {
      "text/html": [
       "<div>\n",
       "<style scoped>\n",
       "    .dataframe tbody tr th:only-of-type {\n",
       "        vertical-align: middle;\n",
       "    }\n",
       "\n",
       "    .dataframe tbody tr th {\n",
       "        vertical-align: top;\n",
       "    }\n",
       "\n",
       "    .dataframe thead th {\n",
       "        text-align: right;\n",
       "    }\n",
       "</style>\n",
       "<table border=\"1\" class=\"dataframe\">\n",
       "  <thead>\n",
       "    <tr style=\"text-align: right;\">\n",
       "      <th></th>\n",
       "      <th>0</th>\n",
       "      <th>1</th>\n",
       "      <th>2</th>\n",
       "      <th>3</th>\n",
       "      <th>4</th>\n",
       "      <th>5</th>\n",
       "      <th>6</th>\n",
       "      <th>7</th>\n",
       "      <th>8</th>\n",
       "      <th>9</th>\n",
       "      <th>...</th>\n",
       "      <th>290</th>\n",
       "      <th>291</th>\n",
       "      <th>292</th>\n",
       "      <th>293</th>\n",
       "      <th>294</th>\n",
       "      <th>295</th>\n",
       "      <th>296</th>\n",
       "      <th>297</th>\n",
       "      <th>298</th>\n",
       "      <th>299</th>\n",
       "    </tr>\n",
       "  </thead>\n",
       "  <tbody>\n",
       "    <tr>\n",
       "      <th>0</th>\n",
       "      <td>-1.078273</td>\n",
       "      <td>-0.479193</td>\n",
       "      <td>-0.735543</td>\n",
       "      <td>-0.298239</td>\n",
       "      <td>1.329263</td>\n",
       "      <td>0.082488</td>\n",
       "      <td>-0.438242</td>\n",
       "      <td>1.326104</td>\n",
       "      <td>0.534224</td>\n",
       "      <td>1.741871</td>\n",
       "      <td>...</td>\n",
       "      <td>-0.124603</td>\n",
       "      <td>-0.543037</td>\n",
       "      <td>0.048416</td>\n",
       "      <td>0.494824</td>\n",
       "      <td>0.251238</td>\n",
       "      <td>-0.005348</td>\n",
       "      <td>-1.103462</td>\n",
       "      <td>-0.397582</td>\n",
       "      <td>0.599349</td>\n",
       "      <td>-1.328173</td>\n",
       "    </tr>\n",
       "    <tr>\n",
       "      <th>1</th>\n",
       "      <td>-0.541839</td>\n",
       "      <td>-0.909702</td>\n",
       "      <td>0.748465</td>\n",
       "      <td>0.765284</td>\n",
       "      <td>1.358393</td>\n",
       "      <td>1.816750</td>\n",
       "      <td>-1.065602</td>\n",
       "      <td>0.446391</td>\n",
       "      <td>0.014150</td>\n",
       "      <td>1.056500</td>\n",
       "      <td>...</td>\n",
       "      <td>-0.464392</td>\n",
       "      <td>0.537371</td>\n",
       "      <td>1.745196</td>\n",
       "      <td>0.159529</td>\n",
       "      <td>-0.966336</td>\n",
       "      <td>0.923511</td>\n",
       "      <td>-0.838287</td>\n",
       "      <td>0.169382</td>\n",
       "      <td>0.904446</td>\n",
       "      <td>1.832248</td>\n",
       "    </tr>\n",
       "    <tr>\n",
       "      <th>2</th>\n",
       "      <td>-0.860609</td>\n",
       "      <td>1.212723</td>\n",
       "      <td>-1.074181</td>\n",
       "      <td>0.601911</td>\n",
       "      <td>-1.022846</td>\n",
       "      <td>-0.396498</td>\n",
       "      <td>1.300595</td>\n",
       "      <td>1.779707</td>\n",
       "      <td>-0.559918</td>\n",
       "      <td>-0.285746</td>\n",
       "      <td>...</td>\n",
       "      <td>0.503387</td>\n",
       "      <td>1.016346</td>\n",
       "      <td>0.314884</td>\n",
       "      <td>-0.304264</td>\n",
       "      <td>0.804433</td>\n",
       "      <td>0.870342</td>\n",
       "      <td>-1.172353</td>\n",
       "      <td>1.305699</td>\n",
       "      <td>1.342068</td>\n",
       "      <td>-1.170054</td>\n",
       "    </tr>\n",
       "    <tr>\n",
       "      <th>3</th>\n",
       "      <td>-1.732922</td>\n",
       "      <td>-1.208682</td>\n",
       "      <td>0.974648</td>\n",
       "      <td>-0.550763</td>\n",
       "      <td>2.314935</td>\n",
       "      <td>0.788113</td>\n",
       "      <td>1.320727</td>\n",
       "      <td>-1.434199</td>\n",
       "      <td>-0.283080</td>\n",
       "      <td>1.058539</td>\n",
       "      <td>...</td>\n",
       "      <td>1.525849</td>\n",
       "      <td>0.091475</td>\n",
       "      <td>-0.450164</td>\n",
       "      <td>-0.607129</td>\n",
       "      <td>-0.609402</td>\n",
       "      <td>0.672017</td>\n",
       "      <td>-0.442552</td>\n",
       "      <td>-0.859368</td>\n",
       "      <td>-0.532058</td>\n",
       "      <td>-0.415734</td>\n",
       "    </tr>\n",
       "    <tr>\n",
       "      <th>4</th>\n",
       "      <td>-0.381423</td>\n",
       "      <td>-0.970862</td>\n",
       "      <td>-0.630154</td>\n",
       "      <td>-0.422975</td>\n",
       "      <td>-0.344676</td>\n",
       "      <td>-0.155697</td>\n",
       "      <td>-0.118481</td>\n",
       "      <td>0.626005</td>\n",
       "      <td>0.214405</td>\n",
       "      <td>1.121861</td>\n",
       "      <td>...</td>\n",
       "      <td>-0.356274</td>\n",
       "      <td>-0.337520</td>\n",
       "      <td>-0.046681</td>\n",
       "      <td>-0.923280</td>\n",
       "      <td>0.689289</td>\n",
       "      <td>0.915021</td>\n",
       "      <td>-0.149616</td>\n",
       "      <td>-0.491487</td>\n",
       "      <td>-0.175232</td>\n",
       "      <td>-0.463814</td>\n",
       "    </tr>\n",
       "  </tbody>\n",
       "</table>\n",
       "<p>5 rows × 300 columns</p>\n",
       "</div>"
      ],
      "text/plain": [
       "        0         1         2         3         4         5         6    \\\n",
       "0 -1.078273 -0.479193 -0.735543 -0.298239  1.329263  0.082488 -0.438242   \n",
       "1 -0.541839 -0.909702  0.748465  0.765284  1.358393  1.816750 -1.065602   \n",
       "2 -0.860609  1.212723 -1.074181  0.601911 -1.022846 -0.396498  1.300595   \n",
       "3 -1.732922 -1.208682  0.974648 -0.550763  2.314935  0.788113  1.320727   \n",
       "4 -0.381423 -0.970862 -0.630154 -0.422975 -0.344676 -0.155697 -0.118481   \n",
       "\n",
       "        7         8         9    ...       290       291       292       293  \\\n",
       "0  1.326104  0.534224  1.741871  ... -0.124603 -0.543037  0.048416  0.494824   \n",
       "1  0.446391  0.014150  1.056500  ... -0.464392  0.537371  1.745196  0.159529   \n",
       "2  1.779707 -0.559918 -0.285746  ...  0.503387  1.016346  0.314884 -0.304264   \n",
       "3 -1.434199 -0.283080  1.058539  ...  1.525849  0.091475 -0.450164 -0.607129   \n",
       "4  0.626005  0.214405  1.121861  ... -0.356274 -0.337520 -0.046681 -0.923280   \n",
       "\n",
       "        294       295       296       297       298       299  \n",
       "0  0.251238 -0.005348 -1.103462 -0.397582  0.599349 -1.328173  \n",
       "1 -0.966336  0.923511 -0.838287  0.169382  0.904446  1.832248  \n",
       "2  0.804433  0.870342 -1.172353  1.305699  1.342068 -1.170054  \n",
       "3 -0.609402  0.672017 -0.442552 -0.859368 -0.532058 -0.415734  \n",
       "4  0.689289  0.915021 -0.149616 -0.491487 -0.175232 -0.463814  \n",
       "\n",
       "[5 rows x 300 columns]"
      ]
     },
     "execution_count": 18,
     "metadata": {},
     "output_type": "execute_result"
    }
   ],
   "source": [
    "df.head()"
   ]
  },
  {
   "cell_type": "code",
   "execution_count": 19,
   "metadata": {},
   "outputs": [
    {
     "data": {
      "text/plain": [
       "(50000, 300)"
      ]
     },
     "execution_count": 19,
     "metadata": {},
     "output_type": "execute_result"
    }
   ],
   "source": [
    "df.to_csv('random_data.csv', index=False)\n",
    "df.shape"
   ]
  },
  {
   "cell_type": "code",
   "execution_count": 20,
   "metadata": {},
   "outputs": [
    {
     "data": {
      "text/plain": [
       "(50000, 300)"
      ]
     },
     "execution_count": 20,
     "metadata": {},
     "output_type": "execute_result"
    }
   ],
   "source": [
    "df.to_csv('random_data.gz', compression='gzip', index=False)\n",
    "df.shape"
   ]
  },
  {
   "cell_type": "code",
   "execution_count": 21,
   "metadata": {},
   "outputs": [
    {
     "data": {
      "text/plain": [
       "(50000, 300)"
      ]
     },
     "execution_count": 21,
     "metadata": {},
     "output_type": "execute_result"
    }
   ],
   "source": [
    "df = pd.read_csv('random_data.gz')\n",
    "df.shape"
   ]
  }
 ],
 "metadata": {
  "kernelspec": {
   "display_name": "Python 3",
   "language": "python",
   "name": "python3"
  },
  "language_info": {
   "codemirror_mode": {
    "name": "ipython",
    "version": 3
   },
   "file_extension": ".py",
   "mimetype": "text/x-python",
   "name": "python",
   "nbconvert_exporter": "python",
   "pygments_lexer": "ipython3",
   "version": "3.7.3"
  }
 },
 "nbformat": 4,
 "nbformat_minor": 4
}

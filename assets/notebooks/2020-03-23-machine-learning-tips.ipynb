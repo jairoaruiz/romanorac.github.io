{
 "cells": [
  {
   "cell_type": "markdown",
   "metadata": {},
   "source": [
    "# Machine Learning Tips that will save you hours of head scratching"
   ]
  },
  {
   "cell_type": "markdown",
   "metadata": {},
   "source": [
    "## Setup"
   ]
  },
  {
   "cell_type": "code",
   "execution_count": 1,
   "metadata": {},
   "outputs": [
    {
     "name": "stdout",
     "output_type": "stream",
     "text": [
      "System\n",
      "os name: posix\n",
      "system: Darwin\n",
      "release: 18.7.0\n",
      "\n",
      "Python\n",
      "version: 3.7.3\n",
      "\n",
      "Python Packages\n",
      "jupterlab==1.1.5\n",
      "pandas==1.0.0\n",
      "numpy==1.17.4\n",
      "seaborn==0.9.0\n"
     ]
    }
   ],
   "source": [
    "%matplotlib inline\n",
    "import os\n",
    "import platform\n",
    "import random\n",
    "from platform import python_version\n",
    "\n",
    "import jupyterlab\n",
    "import matplotlib.pyplot as plt\n",
    "import numpy as np\n",
    "import pandas as pd\n",
    "import seaborn as sns\n",
    "\n",
    "print(\"System\")\n",
    "print(\"os name: %s\" % os.name)\n",
    "print(\"system: %s\" % platform.system())\n",
    "print(\"release: %s\" % platform.release())\n",
    "print()\n",
    "print(\"Python\")\n",
    "print(\"version: %s\" % python_version())\n",
    "print()\n",
    "print(\"Python Packages\")\n",
    "print(\"jupterlab==%s\" % jupyterlab.__version__)\n",
    "print(\"pandas==%s\" % pd.__version__)\n",
    "print(\"numpy==%s\" % np.__version__)\n",
    "print(\"seaborn==%s\" % sns.__version__)"
   ]
  },
  {
   "cell_type": "code",
   "execution_count": 2,
   "metadata": {},
   "outputs": [],
   "source": [
    "np.random.seed(42)"
   ]
  },
  {
   "cell_type": "code",
   "execution_count": 3,
   "metadata": {},
   "outputs": [
    {
     "data": {
      "text/plain": [
       "(1000, 5)"
      ]
     },
     "execution_count": 3,
     "metadata": {},
     "output_type": "execute_result"
    }
   ],
   "source": [
    "n = 1000\n",
    "df = pd.DataFrame(\n",
    "    {\n",
    "        \"customer_id\": [\"customer_%d\" % i for i in range(n)],\n",
    "        \"product_a_ratio\": np.random.random_sample(n),\n",
    "        \"std_price_product_a\": np.random.normal(0, 1, n),\n",
    "        \"n_purchases_product_a\": np.random.randint(0, 10, n),\n",
    "    }\n",
    ")\n",
    "df.loc[100, \"std_price_product_a\"] = pd.NA\n",
    "df[\"product_b_ratio\"] = df[\"product_a_ratio\"]\n",
    "df[\"y\"] = np.random.randint(0, 2, n)\n",
    "df.set_index(\"customer_id\", inplace=True)\n",
    "df.shape"
   ]
  },
  {
   "cell_type": "code",
   "execution_count": 4,
   "metadata": {},
   "outputs": [
    {
     "data": {
      "text/html": [
       "<div>\n",
       "<style scoped>\n",
       "    .dataframe tbody tr th:only-of-type {\n",
       "        vertical-align: middle;\n",
       "    }\n",
       "\n",
       "    .dataframe tbody tr th {\n",
       "        vertical-align: top;\n",
       "    }\n",
       "\n",
       "    .dataframe thead th {\n",
       "        text-align: right;\n",
       "    }\n",
       "</style>\n",
       "<table border=\"1\" class=\"dataframe\">\n",
       "  <thead>\n",
       "    <tr style=\"text-align: right;\">\n",
       "      <th></th>\n",
       "      <th>product_a_ratio</th>\n",
       "      <th>std_price_product_a</th>\n",
       "      <th>n_purchases_product_a</th>\n",
       "      <th>product_b_ratio</th>\n",
       "      <th>y</th>\n",
       "    </tr>\n",
       "    <tr>\n",
       "      <th>customer_id</th>\n",
       "      <th></th>\n",
       "      <th></th>\n",
       "      <th></th>\n",
       "      <th></th>\n",
       "      <th></th>\n",
       "    </tr>\n",
       "  </thead>\n",
       "  <tbody>\n",
       "    <tr>\n",
       "      <th>customer_0</th>\n",
       "      <td>0.374540</td>\n",
       "      <td>0.177701</td>\n",
       "      <td>0</td>\n",
       "      <td>0.374540</td>\n",
       "      <td>0</td>\n",
       "    </tr>\n",
       "    <tr>\n",
       "      <th>customer_1</th>\n",
       "      <td>0.950714</td>\n",
       "      <td>-1.33534</td>\n",
       "      <td>8</td>\n",
       "      <td>0.950714</td>\n",
       "      <td>1</td>\n",
       "    </tr>\n",
       "    <tr>\n",
       "      <th>customer_2</th>\n",
       "      <td>0.731994</td>\n",
       "      <td>0.380198</td>\n",
       "      <td>0</td>\n",
       "      <td>0.731994</td>\n",
       "      <td>0</td>\n",
       "    </tr>\n",
       "    <tr>\n",
       "      <th>customer_3</th>\n",
       "      <td>0.598658</td>\n",
       "      <td>0.610586</td>\n",
       "      <td>2</td>\n",
       "      <td>0.598658</td>\n",
       "      <td>1</td>\n",
       "    </tr>\n",
       "    <tr>\n",
       "      <th>customer_4</th>\n",
       "      <td>0.156019</td>\n",
       "      <td>0.55979</td>\n",
       "      <td>7</td>\n",
       "      <td>0.156019</td>\n",
       "      <td>1</td>\n",
       "    </tr>\n",
       "  </tbody>\n",
       "</table>\n",
       "</div>"
      ],
      "text/plain": [
       "             product_a_ratio std_price_product_a  n_purchases_product_a  \\\n",
       "customer_id                                                               \n",
       "customer_0          0.374540            0.177701                      0   \n",
       "customer_1          0.950714            -1.33534                      8   \n",
       "customer_2          0.731994            0.380198                      0   \n",
       "customer_3          0.598658            0.610586                      2   \n",
       "customer_4          0.156019             0.55979                      7   \n",
       "\n",
       "             product_b_ratio  y  \n",
       "customer_id                      \n",
       "customer_0          0.374540  0  \n",
       "customer_1          0.950714  1  \n",
       "customer_2          0.731994  0  \n",
       "customer_3          0.598658  1  \n",
       "customer_4          0.156019  1  "
      ]
     },
     "execution_count": 4,
     "metadata": {},
     "output_type": "execute_result"
    }
   ],
   "source": [
    "df.head()"
   ]
  },
  {
   "cell_type": "code",
   "execution_count": 5,
   "metadata": {},
   "outputs": [],
   "source": [
    "assert (\n",
    "    len(set(df[df.y == 0].index).intersection(df[df.y == 1])) == 0\n",
    "), \"Positive customers have intersection with negative customers\""
   ]
  },
  {
   "cell_type": "code",
   "execution_count": 6,
   "metadata": {},
   "outputs": [],
   "source": [
    "assert len(df[df.index.duplicated()]) == 0, \"There are duplicates in trainset\""
   ]
  },
  {
   "cell_type": "code",
   "execution_count": 7,
   "metadata": {},
   "outputs": [
    {
     "ename": "AssertionError",
     "evalue": "std_price_product_a col has 1 missing values",
     "output_type": "error",
     "traceback": [
      "\u001b[0;31m---------------------------------------------------------------------------\u001b[0m",
      "\u001b[0;31mAssertionError\u001b[0m                            Traceback (most recent call last)",
      "\u001b[0;32m<ipython-input-7-7e9c12d58408>\u001b[0m in \u001b[0;36m<module>\u001b[0;34m\u001b[0m\n\u001b[1;32m      2\u001b[0m     assert df[df[col].isnull()].shape[0] == 0, \"%s col has %d missing values\" % (\n\u001b[1;32m      3\u001b[0m         \u001b[0mcol\u001b[0m\u001b[0;34m,\u001b[0m\u001b[0;34m\u001b[0m\u001b[0;34m\u001b[0m\u001b[0m\n\u001b[0;32m----> 4\u001b[0;31m         \u001b[0mdf\u001b[0m\u001b[0;34m[\u001b[0m\u001b[0mdf\u001b[0m\u001b[0;34m[\u001b[0m\u001b[0mcol\u001b[0m\u001b[0;34m]\u001b[0m\u001b[0;34m.\u001b[0m\u001b[0misnull\u001b[0m\u001b[0;34m(\u001b[0m\u001b[0;34m)\u001b[0m\u001b[0;34m]\u001b[0m\u001b[0;34m.\u001b[0m\u001b[0mshape\u001b[0m\u001b[0;34m[\u001b[0m\u001b[0;36m0\u001b[0m\u001b[0;34m]\u001b[0m\u001b[0;34m,\u001b[0m\u001b[0;34m\u001b[0m\u001b[0;34m\u001b[0m\u001b[0m\n\u001b[0m\u001b[1;32m      5\u001b[0m     )\n",
      "\u001b[0;31mAssertionError\u001b[0m: std_price_product_a col has 1 missing values"
     ]
    }
   ],
   "source": [
    "for col in df.columns:\n",
    "    assert df[df[col].isnull()].shape[0] == 0, \"%s col has %d missing values\" % (\n",
    "        col,\n",
    "        df[df[col].isnull()].shape[0],\n",
    "    )"
   ]
  },
  {
   "cell_type": "code",
   "execution_count": 8,
   "metadata": {},
   "outputs": [
    {
     "data": {
      "text/plain": [
       "(999, 5)"
      ]
     },
     "execution_count": 8,
     "metadata": {},
     "output_type": "execute_result"
    }
   ],
   "source": [
    "df = df[df['std_price_product_a'].notnull()].copy()\n",
    "df.shape"
   ]
  },
  {
   "cell_type": "code",
   "execution_count": 9,
   "metadata": {},
   "outputs": [],
   "source": [
    "for col in df.columns:\n",
    "    assert df[df[col].isnull()].shape[0] == 0, \"%s col has %d missing values\" % (col, df[df[col].isnull()].shape[0])"
   ]
  },
  {
   "cell_type": "code",
   "execution_count": 10,
   "metadata": {},
   "outputs": [],
   "source": [
    "features_on_0_1_scale = [\n",
    "    'product_a_ratio',\n",
    "    'product_b_ratio',\n",
    "    'y',\n",
    "]\n",
    "\n",
    "for col in features_on_0_1_scale:\n",
    "    assert df[col].min() >= 0 and df[col].max() <= 1, \"%s is not on 0 - 1 scale\" % col"
   ]
  },
  {
   "cell_type": "code",
   "execution_count": 11,
   "metadata": {},
   "outputs": [],
   "source": [
    "feature_types = {\n",
    "    \"product_a_ratio\": \"float64\",\n",
    "    \"std_price_product_a\": \"float64\",\n",
    "    \"n_purchases_product_a\": \"int64\",\n",
    "    \"product_b_ratio\": \"float64\",\n",
    "    \"y\": \"int64\",\n",
    "}\n",
    "\n",
    "for feature, dtype in feature_types.items():\n",
    "    df.loc[:, feature] = df[feature].astype(dtype)"
   ]
  },
  {
   "cell_type": "code",
   "execution_count": 12,
   "metadata": {},
   "outputs": [
    {
     "data": {
      "text/plain": [
       "array([0, 8, 0, 2, 7, 2, 3, 7, 0, 5])"
      ]
     },
     "execution_count": 12,
     "metadata": {},
     "output_type": "execute_result"
    }
   ],
   "source": [
    "df.n_purchases_product_a.values[:10]"
   ]
  },
  {
   "cell_type": "code",
   "execution_count": 13,
   "metadata": {},
   "outputs": [
    {
     "data": {
      "text/plain": [
       "array([0.0, 8.0, 0.0, 2.0, 7.0, 2.0, 3.0, 7.0, 0.0, 5.0], dtype=object)"
      ]
     },
     "execution_count": 13,
     "metadata": {},
     "output_type": "execute_result"
    }
   ],
   "source": [
    "df.loc[0, \"n_purchases_product_a\"] = pd.NA\n",
    "df.n_purchases_product_a[:10].values"
   ]
  },
  {
   "cell_type": "code",
   "execution_count": 14,
   "metadata": {},
   "outputs": [],
   "source": [
    "features = [\n",
    "    \"product_a_ratio\",\n",
    "    \"std_price_product_a\",\n",
    "    \"n_purchases_product_a\",\n",
    "    \"product_b_ratio\",\n",
    "]"
   ]
  },
  {
   "cell_type": "code",
   "execution_count": 15,
   "metadata": {},
   "outputs": [],
   "source": [
    "assert len(set(features)) == len(features), \"Features names are not unique\""
   ]
  },
  {
   "cell_type": "code",
   "execution_count": 16,
   "metadata": {},
   "outputs": [
    {
     "data": {
      "text/plain": [
       "{'y'}"
      ]
     },
     "execution_count": 16,
     "metadata": {},
     "output_type": "execute_result"
    }
   ],
   "source": [
    "set(df.columns) - set(features)"
   ]
  },
  {
   "cell_type": "code",
   "execution_count": 17,
   "metadata": {},
   "outputs": [
    {
     "data": {
      "image/png": "[encoded data removed]",
      "text/plain": [
       "<Figure size 432x288 with 2 Axes>"
      ]
     },
     "metadata": {
      "needs_background": "light"
     },
     "output_type": "display_data"
    }
   ],
   "source": [
    "\n",
    "corr = df[features].corr()\n",
    "\n",
    "fig, ax = plt.subplots()\n",
    "ax = sns.heatmap(corr, vmin=-1, vmax=1, center=1, square=True)\n",
    "ax.set_xticklabels(ax.get_xticklabels(), rotation=45, horizontalalignment=\"right\");"
   ]
  },
  {
   "cell_type": "code",
   "execution_count": 18,
   "metadata": {},
   "outputs": [],
   "source": [
    "features = [\n",
    "    \"product_a_ratio\",\n",
    "    \"std_price_product_a\",\n",
    "    \"n_purchases_product_a\",\n",
    "    #    \"product_b_ratio\", # feature has pearson correlation 1.0 with product_a_ratio\n",
    "]"
   ]
  },
  {
   "cell_type": "code",
   "execution_count": 19,
   "metadata": {},
   "outputs": [
    {
     "data": {
      "text/html": [
       "<div>\n",
       "<style scoped>\n",
       "    .dataframe tbody tr th:only-of-type {\n",
       "        vertical-align: middle;\n",
       "    }\n",
       "\n",
       "    .dataframe tbody tr th {\n",
       "        vertical-align: top;\n",
       "    }\n",
       "\n",
       "    .dataframe thead th {\n",
       "        text-align: right;\n",
       "    }\n",
       "</style>\n",
       "<table border=\"1\" class=\"dataframe\">\n",
       "  <thead>\n",
       "    <tr style=\"text-align: right;\">\n",
       "      <th></th>\n",
       "      <th>product_a_ratio</th>\n",
       "      <th>std_price_product_a</th>\n",
       "      <th>n_purchases_product_a</th>\n",
       "      <th>product_b_ratio</th>\n",
       "      <th>y</th>\n",
       "      <th>notes</th>\n",
       "    </tr>\n",
       "    <tr>\n",
       "      <th>customer_id</th>\n",
       "      <th></th>\n",
       "      <th></th>\n",
       "      <th></th>\n",
       "      <th></th>\n",
       "      <th></th>\n",
       "      <th></th>\n",
       "    </tr>\n",
       "  </thead>\n",
       "  <tbody>\n",
       "    <tr>\n",
       "      <th>customer_0</th>\n",
       "      <td>0.374540</td>\n",
       "      <td>0.177701</td>\n",
       "      <td>0</td>\n",
       "      <td>0.374540</td>\n",
       "      <td>0.0</td>\n",
       "      <td>Positive in training set, but should be negative</td>\n",
       "    </tr>\n",
       "    <tr>\n",
       "      <th>customer_1</th>\n",
       "      <td>0.950714</td>\n",
       "      <td>-1.335344</td>\n",
       "      <td>8</td>\n",
       "      <td>0.950714</td>\n",
       "      <td>1.0</td>\n",
       "      <td>good prediction as positive</td>\n",
       "    </tr>\n",
       "    <tr>\n",
       "      <th>customer_2</th>\n",
       "      <td>0.731994</td>\n",
       "      <td>0.380198</td>\n",
       "      <td>0</td>\n",
       "      <td>0.731994</td>\n",
       "      <td>0.0</td>\n",
       "      <td>NaN</td>\n",
       "    </tr>\n",
       "    <tr>\n",
       "      <th>customer_3</th>\n",
       "      <td>0.598658</td>\n",
       "      <td>0.610586</td>\n",
       "      <td>2</td>\n",
       "      <td>0.598658</td>\n",
       "      <td>1.0</td>\n",
       "      <td>NaN</td>\n",
       "    </tr>\n",
       "    <tr>\n",
       "      <th>customer_4</th>\n",
       "      <td>0.156019</td>\n",
       "      <td>0.559790</td>\n",
       "      <td>7</td>\n",
       "      <td>0.156019</td>\n",
       "      <td>1.0</td>\n",
       "      <td>NaN</td>\n",
       "    </tr>\n",
       "    <tr>\n",
       "      <th>...</th>\n",
       "      <td>...</td>\n",
       "      <td>...</td>\n",
       "      <td>...</td>\n",
       "      <td>...</td>\n",
       "      <td>...</td>\n",
       "      <td>...</td>\n",
       "    </tr>\n",
       "    <tr>\n",
       "      <th>customer_996</th>\n",
       "      <td>0.917314</td>\n",
       "      <td>-0.611769</td>\n",
       "      <td>8</td>\n",
       "      <td>0.917314</td>\n",
       "      <td>0.0</td>\n",
       "      <td>NaN</td>\n",
       "    </tr>\n",
       "    <tr>\n",
       "      <th>customer_997</th>\n",
       "      <td>0.136819</td>\n",
       "      <td>-0.037037</td>\n",
       "      <td>0</td>\n",
       "      <td>0.136819</td>\n",
       "      <td>0.0</td>\n",
       "      <td>NaN</td>\n",
       "    </tr>\n",
       "    <tr>\n",
       "      <th>customer_998</th>\n",
       "      <td>0.950237</td>\n",
       "      <td>-0.429302</td>\n",
       "      <td>5</td>\n",
       "      <td>0.950237</td>\n",
       "      <td>0.0</td>\n",
       "      <td>NaN</td>\n",
       "    </tr>\n",
       "    <tr>\n",
       "      <th>customer_999</th>\n",
       "      <td>0.446006</td>\n",
       "      <td>-0.692421</td>\n",
       "      <td>8</td>\n",
       "      <td>0.446006</td>\n",
       "      <td>0.0</td>\n",
       "      <td>NaN</td>\n",
       "    </tr>\n",
       "    <tr>\n",
       "      <th>0</th>\n",
       "      <td>NaN</td>\n",
       "      <td>NaN</td>\n",
       "      <td>&lt;NA&gt;</td>\n",
       "      <td>NaN</td>\n",
       "      <td>NaN</td>\n",
       "      <td>NaN</td>\n",
       "    </tr>\n",
       "  </tbody>\n",
       "</table>\n",
       "<p>1000 rows × 6 columns</p>\n",
       "</div>"
      ],
      "text/plain": [
       "              product_a_ratio  std_price_product_a n_purchases_product_a  \\\n",
       "customer_id                                                                \n",
       "customer_0           0.374540             0.177701                     0   \n",
       "customer_1           0.950714            -1.335344                     8   \n",
       "customer_2           0.731994             0.380198                     0   \n",
       "customer_3           0.598658             0.610586                     2   \n",
       "customer_4           0.156019             0.559790                     7   \n",
       "...                       ...                  ...                   ...   \n",
       "customer_996         0.917314            -0.611769                     8   \n",
       "customer_997         0.136819            -0.037037                     0   \n",
       "customer_998         0.950237            -0.429302                     5   \n",
       "customer_999         0.446006            -0.692421                     8   \n",
       "0                         NaN                  NaN                  <NA>   \n",
       "\n",
       "              product_b_ratio    y  \\\n",
       "customer_id                          \n",
       "customer_0           0.374540  0.0   \n",
       "customer_1           0.950714  1.0   \n",
       "customer_2           0.731994  0.0   \n",
       "customer_3           0.598658  1.0   \n",
       "customer_4           0.156019  1.0   \n",
       "...                       ...  ...   \n",
       "customer_996         0.917314  0.0   \n",
       "customer_997         0.136819  0.0   \n",
       "customer_998         0.950237  0.0   \n",
       "customer_999         0.446006  0.0   \n",
       "0                         NaN  NaN   \n",
       "\n",
       "                                                         notes  \n",
       "customer_id                                                     \n",
       "customer_0    Positive in training set, but should be negative  \n",
       "customer_1                         good prediction as positive  \n",
       "customer_2                                                 NaN  \n",
       "customer_3                                                 NaN  \n",
       "customer_4                                                 NaN  \n",
       "...                                                        ...  \n",
       "customer_996                                               NaN  \n",
       "customer_997                                               NaN  \n",
       "customer_998                                               NaN  \n",
       "customer_999                                               NaN  \n",
       "0                                                          NaN  \n",
       "\n",
       "[1000 rows x 6 columns]"
      ]
     },
     "execution_count": 19,
     "metadata": {},
     "output_type": "execute_result"
    }
   ],
   "source": [
    "df.loc['customer_0', \"notes\"] = \"Positive in training set, but should be negative\"\n",
    "df.loc['customer_1', \"notes\"] = \"good prediction as positive\"\n",
    "df"
   ]
  }
 ],
 "metadata": {
  "kernelspec": {
   "display_name": "Python 3",
   "language": "python",
   "name": "python3"
  },
  "language_info": {
   "codemirror_mode": {
    "name": "ipython",
    "version": 3
   },
   "file_extension": ".py",
   "mimetype": "text/x-python",
   "name": "python",
   "nbconvert_exporter": "python",
   "pygments_lexer": "ipython3",
   "version": "3.7.3"
  }
 },
 "nbformat": 4,
 "nbformat_minor": 4
}

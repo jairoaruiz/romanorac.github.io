{
 "cells": [
  {
   "cell_type": "code",
   "execution_count": 1,
   "metadata": {},
   "outputs": [],
   "source": [
    "%matplotlib inline"
   ]
  },
  {
   "cell_type": "code",
   "execution_count": 2,
   "metadata": {},
   "outputs": [
    {
     "name": "stdout",
     "output_type": "stream",
     "text": [
      "System\n",
      "os name: posix\n",
      "system: Darwin\n",
      "release: 18.7.0\n",
      "\n",
      "Python\n",
      "version: 3.7.3\n",
      "\n",
      "Python Packages\n",
      "jupterlab==1.1.5\n",
      "pandas==1.0.0\n",
      "numpy==1.17.4\n"
     ]
    }
   ],
   "source": [
    "import os\n",
    "import platform\n",
    "from platform import python_version\n",
    "\n",
    "import jupyterlab\n",
    "import pandas as pd\n",
    "import numpy as np\n",
    "import random\n",
    "import matplotlib.pyplot as plt\n",
    "\n",
    "print(\"System\")\n",
    "print(\"os name: %s\" % os.name)\n",
    "print(\"system: %s\" % platform.system())\n",
    "print(\"release: %s\" % platform.release())\n",
    "print()\n",
    "print(\"Python\")\n",
    "print(\"version: %s\" % python_version())\n",
    "print()\n",
    "print(\"Python Packages\")\n",
    "print(\"jupterlab==%s\" % jupyterlab.__version__)\n",
    "print(\"pandas==%s\" % pd.__version__)\n",
    "print(\"numpy==%s\" % np.__version__)"
   ]
  },
  {
   "cell_type": "code",
   "execution_count": 3,
   "metadata": {},
   "outputs": [],
   "source": [
    "plt.rcParams['figure.facecolor'] = 'w'"
   ]
  },
  {
   "cell_type": "code",
   "execution_count": 4,
   "metadata": {},
   "outputs": [],
   "source": [
    "pd.set_option(\"display.max_rows\", 500)"
   ]
  },
  {
   "cell_type": "code",
   "execution_count": 5,
   "metadata": {},
   "outputs": [
    {
     "data": {
      "text/plain": [
       "(21714, 6)"
      ]
     },
     "execution_count": 5,
     "metadata": {},
     "output_type": "execute_result"
    }
   ],
   "source": [
    "df = pd.read_csv('~/tds_stories.csv')\n",
    "df.shape"
   ]
  },
  {
   "cell_type": "code",
   "execution_count": 6,
   "metadata": {},
   "outputs": [
    {
     "data": {
      "text/plain": [
       "(31, 6)"
      ]
     },
     "execution_count": 6,
     "metadata": {},
     "output_type": "execute_result"
    }
   ],
   "source": [
    "df[(df.title.isnull()) & (df.subtitle.isnull())].shape"
   ]
  },
  {
   "cell_type": "code",
   "execution_count": 7,
   "metadata": {},
   "outputs": [
    {
     "data": {
      "text/plain": [
       "(21683, 6)"
      ]
     },
     "execution_count": 7,
     "metadata": {},
     "output_type": "execute_result"
    }
   ],
   "source": [
    "df = df[(df.title.notnull()) | (df.subtitle.notnull())]\n",
    "df.shape"
   ]
  },
  {
   "cell_type": "code",
   "execution_count": 8,
   "metadata": {},
   "outputs": [],
   "source": [
    "df = df.fillna('')"
   ]
  },
  {
   "cell_type": "code",
   "execution_count": 9,
   "metadata": {},
   "outputs": [],
   "source": [
    "df['id'] = (df.title + df.subtitle + df.author + df.date + df.reading_time + df.claps).apply(hash)"
   ]
  },
  {
   "cell_type": "code",
   "execution_count": 10,
   "metadata": {},
   "outputs": [
    {
     "data": {
      "text/html": [
       "<div>\n",
       "<style scoped>\n",
       "    .dataframe tbody tr th:only-of-type {\n",
       "        vertical-align: middle;\n",
       "    }\n",
       "\n",
       "    .dataframe tbody tr th {\n",
       "        vertical-align: top;\n",
       "    }\n",
       "\n",
       "    .dataframe thead th {\n",
       "        text-align: right;\n",
       "    }\n",
       "</style>\n",
       "<table border=\"1\" class=\"dataframe\">\n",
       "  <thead>\n",
       "    <tr style=\"text-align: right;\">\n",
       "      <th></th>\n",
       "      <th>title</th>\n",
       "      <th>subtitle</th>\n",
       "      <th>author</th>\n",
       "      <th>date</th>\n",
       "      <th>reading_time</th>\n",
       "      <th>claps</th>\n",
       "      <th>id</th>\n",
       "    </tr>\n",
       "  </thead>\n",
       "  <tbody>\n",
       "  </tbody>\n",
       "</table>\n",
       "</div>"
      ],
      "text/plain": [
       "Empty DataFrame\n",
       "Columns: [title, subtitle, author, date, reading_time, claps, id]\n",
       "Index: []"
      ]
     },
     "execution_count": 10,
     "metadata": {},
     "output_type": "execute_result"
    }
   ],
   "source": [
    "df[df.id.duplicated()]"
   ]
  },
  {
   "cell_type": "code",
   "execution_count": 11,
   "metadata": {},
   "outputs": [],
   "source": [
    "for col in ['title', 'subtitle', 'author', 'date', 'reading_time', 'claps']:\n",
    "    df[col] = df[col].str.strip()"
   ]
  },
  {
   "cell_type": "code",
   "execution_count": 12,
   "metadata": {},
   "outputs": [],
   "source": [
    "df.date = pd.to_datetime(df.date)"
   ]
  },
  {
   "cell_type": "code",
   "execution_count": 13,
   "metadata": {},
   "outputs": [],
   "source": [
    "df = df.rename(columns={'reading_time':'reading_time_str', 'claps': 'claps_str'})"
   ]
  },
  {
   "cell_type": "code",
   "execution_count": 14,
   "metadata": {},
   "outputs": [],
   "source": [
    "df.loc[df.claps_str == '', 'claps_str'] = '0'"
   ]
  },
  {
   "cell_type": "code",
   "execution_count": 15,
   "metadata": {},
   "outputs": [],
   "source": [
    "df.loc[:, 'claps'] = df.claps_str.apply(lambda x: float(x.replace('K', ''))*1000 if 'K' in x  else x).astype(int)"
   ]
  },
  {
   "cell_type": "code",
   "execution_count": 16,
   "metadata": {},
   "outputs": [],
   "source": [
    "df.loc[:, 'reading_time'] = df.reading_time_str.str.replace(' min read', '').apply(int)"
   ]
  },
  {
   "cell_type": "code",
   "execution_count": 17,
   "metadata": {},
   "outputs": [],
   "source": [
    "df.loc[:, 'daily_rank'] = df.groupby('date').cumcount() + 1"
   ]
  },
  {
   "cell_type": "code",
   "execution_count": 18,
   "metadata": {},
   "outputs": [],
   "source": [
    "df[\"daily_count\"] = df.groupby(\"date\").daily_rank.transform(\"count\")"
   ]
  },
  {
   "cell_type": "code",
   "execution_count": 19,
   "metadata": {},
   "outputs": [
    {
     "data": {
      "text/html": [
       "<div>\n",
       "<style scoped>\n",
       "    .dataframe tbody tr th:only-of-type {\n",
       "        vertical-align: middle;\n",
       "    }\n",
       "\n",
       "    .dataframe tbody tr th {\n",
       "        vertical-align: top;\n",
       "    }\n",
       "\n",
       "    .dataframe thead th {\n",
       "        text-align: right;\n",
       "    }\n",
       "</style>\n",
       "<table border=\"1\" class=\"dataframe\">\n",
       "  <thead>\n",
       "    <tr style=\"text-align: right;\">\n",
       "      <th></th>\n",
       "      <th>title</th>\n",
       "      <th>subtitle</th>\n",
       "      <th>author</th>\n",
       "      <th>date</th>\n",
       "      <th>reading_time_str</th>\n",
       "      <th>claps_str</th>\n",
       "      <th>id</th>\n",
       "      <th>claps</th>\n",
       "      <th>reading_time</th>\n",
       "      <th>daily_rank</th>\n",
       "      <th>daily_count</th>\n",
       "    </tr>\n",
       "  </thead>\n",
       "  <tbody>\n",
       "    <tr>\n",
       "      <th>1588</th>\n",
       "      <td>Celebrating 1 Year of Towards Data Science</td>\n",
       "      <td></td>\n",
       "      <td>Cherie Chung</td>\n",
       "      <td>2017-10-20</td>\n",
       "      <td>3 min read</td>\n",
       "      <td>347</td>\n",
       "      <td>-8256182661338044494</td>\n",
       "      <td>347</td>\n",
       "      <td>3</td>\n",
       "      <td>9</td>\n",
       "      <td>11</td>\n",
       "    </tr>\n",
       "    <tr>\n",
       "      <th>3202</th>\n",
       "      <td>About Towards Data Science</td>\n",
       "      <td>LAST UPDATED JANUARY 2020</td>\n",
       "      <td>TDS Team</td>\n",
       "      <td>2018-05-05</td>\n",
       "      <td>6 min read</td>\n",
       "      <td>790</td>\n",
       "      <td>-3761786983035070496</td>\n",
       "      <td>790</td>\n",
       "      <td>6</td>\n",
       "      <td>11</td>\n",
       "      <td>16</td>\n",
       "    </tr>\n",
       "    <tr>\n",
       "      <th>3512</th>\n",
       "      <td>A Thank You note to Towards Data Science</td>\n",
       "      <td>Data Science is not easy, but thanks to many p...</td>\n",
       "      <td>Favio Vázquez</td>\n",
       "      <td>2018-06-02</td>\n",
       "      <td>6 min read</td>\n",
       "      <td>572</td>\n",
       "      <td>7827214962442106990</td>\n",
       "      <td>572</td>\n",
       "      <td>6</td>\n",
       "      <td>14</td>\n",
       "      <td>15</td>\n",
       "    </tr>\n",
       "    <tr>\n",
       "      <th>4324</th>\n",
       "      <td>Choosing the Best Day to Post on Towards Data ...</td>\n",
       "      <td></td>\n",
       "      <td>Martin Schleiss</td>\n",
       "      <td>2018-08-11</td>\n",
       "      <td>3 min read</td>\n",
       "      <td>4</td>\n",
       "      <td>4797566435800417393</td>\n",
       "      <td>4</td>\n",
       "      <td>3</td>\n",
       "      <td>13</td>\n",
       "      <td>13</td>\n",
       "    </tr>\n",
       "    <tr>\n",
       "      <th>6601</th>\n",
       "      <td>How to get the most out of Towards Data Science?</td>\n",
       "      <td>Our Readers’ Guide</td>\n",
       "      <td>TDS Team</td>\n",
       "      <td>2018-12-13</td>\n",
       "      <td>2 min read</td>\n",
       "      <td>372</td>\n",
       "      <td>4771354627472018483</td>\n",
       "      <td>372</td>\n",
       "      <td>2</td>\n",
       "      <td>13</td>\n",
       "      <td>23</td>\n",
       "    </tr>\n",
       "    <tr>\n",
       "      <th>9095</th>\n",
       "      <td>How to create your own column in Towards Data ...</td>\n",
       "      <td>Writers’ Guide</td>\n",
       "      <td>TDS Team</td>\n",
       "      <td>2019-03-29</td>\n",
       "      <td>2 min read</td>\n",
       "      <td>121</td>\n",
       "      <td>6258093081688966286</td>\n",
       "      <td>121</td>\n",
       "      <td>2</td>\n",
       "      <td>8</td>\n",
       "      <td>22</td>\n",
       "    </tr>\n",
       "    <tr>\n",
       "      <th>10343</th>\n",
       "      <td>The first step towards Data Science</td>\n",
       "      <td>Basic Concepts involved in Multivariate Analysis</td>\n",
       "      <td>Shubhankar Rawat</td>\n",
       "      <td>2019-05-15</td>\n",
       "      <td>7 min read</td>\n",
       "      <td>294</td>\n",
       "      <td>-5602820424249596544</td>\n",
       "      <td>294</td>\n",
       "      <td>7</td>\n",
       "      <td>25</td>\n",
       "      <td>30</td>\n",
       "    </tr>\n",
       "    <tr>\n",
       "      <th>14524</th>\n",
       "      <td>First step towards Data Science: Journey to th...</td>\n",
       "      <td>House price prediction on kaggle</td>\n",
       "      <td>Anish Shrestha</td>\n",
       "      <td>2019-09-28</td>\n",
       "      <td>7 min read</td>\n",
       "      <td>88</td>\n",
       "      <td>3729846168941049990</td>\n",
       "      <td>88</td>\n",
       "      <td>7</td>\n",
       "      <td>21</td>\n",
       "      <td>26</td>\n",
       "    </tr>\n",
       "    <tr>\n",
       "      <th>14695</th>\n",
       "      <td>Towards Data-Driven Organization</td>\n",
       "      <td></td>\n",
       "      <td>Shukhrat Khodjaev</td>\n",
       "      <td>2019-10-03</td>\n",
       "      <td>8 min read</td>\n",
       "      <td>22</td>\n",
       "      <td>2181349394343991018</td>\n",
       "      <td>22</td>\n",
       "      <td>8</td>\n",
       "      <td>11</td>\n",
       "      <td>32</td>\n",
       "    </tr>\n",
       "    <tr>\n",
       "      <th>15684</th>\n",
       "      <td>Writing for Towards Data Science: More Than a ...</td>\n",
       "      <td>An intro on how to get started writing for…</td>\n",
       "      <td>Pier Paolo Ippolito</td>\n",
       "      <td>2019-10-31</td>\n",
       "      <td>6 min read</td>\n",
       "      <td>220</td>\n",
       "      <td>5686699054653060259</td>\n",
       "      <td>220</td>\n",
       "      <td>6</td>\n",
       "      <td>22</td>\n",
       "      <td>29</td>\n",
       "    </tr>\n",
       "    <tr>\n",
       "      <th>15826</th>\n",
       "      <td>Sharing my personal journey writing for Toward...</td>\n",
       "      <td>Tips included. We should not bottle up…</td>\n",
       "      <td>Black Raven (James Ng)</td>\n",
       "      <td>2019-11-04</td>\n",
       "      <td>5 min read</td>\n",
       "      <td>183</td>\n",
       "      <td>8832640849030451342</td>\n",
       "      <td>183</td>\n",
       "      <td>5</td>\n",
       "      <td>42</td>\n",
       "      <td>50</td>\n",
       "    </tr>\n",
       "    <tr>\n",
       "      <th>16669</th>\n",
       "      <td>Learn on Towards Data Science</td>\n",
       "      <td>Discover, learn, and share your own projects</td>\n",
       "      <td>TDS Team</td>\n",
       "      <td>2019-11-25</td>\n",
       "      <td>2 min read</td>\n",
       "      <td>362</td>\n",
       "      <td>8341918283112098775</td>\n",
       "      <td>362</td>\n",
       "      <td>2</td>\n",
       "      <td>17</td>\n",
       "      <td>53</td>\n",
       "    </tr>\n",
       "    <tr>\n",
       "      <th>17688</th>\n",
       "      <td>How to Stay Inspired In your Journey Towards D...</td>\n",
       "      <td>Here are 7 tips for staying motivated…</td>\n",
       "      <td>Benedict Neo</td>\n",
       "      <td>2019-12-21</td>\n",
       "      <td>10 min read</td>\n",
       "      <td>89</td>\n",
       "      <td>6265088784425975395</td>\n",
       "      <td>89</td>\n",
       "      <td>10</td>\n",
       "      <td>16</td>\n",
       "      <td>24</td>\n",
       "    </tr>\n",
       "  </tbody>\n",
       "</table>\n",
       "</div>"
      ],
      "text/plain": [
       "                                                   title  \\\n",
       "1588          Celebrating 1 Year of Towards Data Science   \n",
       "3202                          About Towards Data Science   \n",
       "3512            A Thank You note to Towards Data Science   \n",
       "4324   Choosing the Best Day to Post on Towards Data ...   \n",
       "6601    How to get the most out of Towards Data Science?   \n",
       "9095   How to create your own column in Towards Data ...   \n",
       "10343                The first step towards Data Science   \n",
       "14524  First step towards Data Science: Journey to th...   \n",
       "14695                   Towards Data-Driven Organization   \n",
       "15684  Writing for Towards Data Science: More Than a ...   \n",
       "15826  Sharing my personal journey writing for Toward...   \n",
       "16669                      Learn on Towards Data Science   \n",
       "17688  How to Stay Inspired In your Journey Towards D...   \n",
       "\n",
       "                                                subtitle  \\\n",
       "1588                                                       \n",
       "3202                           LAST UPDATED JANUARY 2020   \n",
       "3512   Data Science is not easy, but thanks to many p...   \n",
       "4324                                                       \n",
       "6601                                  Our Readers’ Guide   \n",
       "9095                                      Writers’ Guide   \n",
       "10343   Basic Concepts involved in Multivariate Analysis   \n",
       "14524                   House price prediction on kaggle   \n",
       "14695                                                      \n",
       "15684        An intro on how to get started writing for…   \n",
       "15826            Tips included. We should not bottle up…   \n",
       "16669       Discover, learn, and share your own projects   \n",
       "17688             Here are 7 tips for staying motivated…   \n",
       "\n",
       "                       author       date reading_time_str claps_str  \\\n",
       "1588             Cherie Chung 2017-10-20       3 min read       347   \n",
       "3202                 TDS Team 2018-05-05       6 min read       790   \n",
       "3512            Favio Vázquez 2018-06-02       6 min read       572   \n",
       "4324          Martin Schleiss 2018-08-11       3 min read         4   \n",
       "6601                 TDS Team 2018-12-13       2 min read       372   \n",
       "9095                 TDS Team 2019-03-29       2 min read       121   \n",
       "10343        Shubhankar Rawat 2019-05-15       7 min read       294   \n",
       "14524          Anish Shrestha 2019-09-28       7 min read        88   \n",
       "14695       Shukhrat Khodjaev 2019-10-03       8 min read        22   \n",
       "15684     Pier Paolo Ippolito 2019-10-31       6 min read       220   \n",
       "15826  Black Raven (James Ng) 2019-11-04       5 min read       183   \n",
       "16669                TDS Team 2019-11-25       2 min read       362   \n",
       "17688            Benedict Neo 2019-12-21      10 min read        89   \n",
       "\n",
       "                        id  claps  reading_time  daily_rank  daily_count  \n",
       "1588  -8256182661338044494    347             3           9           11  \n",
       "3202  -3761786983035070496    790             6          11           16  \n",
       "3512   7827214962442106990    572             6          14           15  \n",
       "4324   4797566435800417393      4             3          13           13  \n",
       "6601   4771354627472018483    372             2          13           23  \n",
       "9095   6258093081688966286    121             2           8           22  \n",
       "10343 -5602820424249596544    294             7          25           30  \n",
       "14524  3729846168941049990     88             7          21           26  \n",
       "14695  2181349394343991018     22             8          11           32  \n",
       "15684  5686699054653060259    220             6          22           29  \n",
       "15826  8832640849030451342    183             5          42           50  \n",
       "16669  8341918283112098775    362             2          17           53  \n",
       "17688  6265088784425975395     89            10          16           24  "
      ]
     },
     "execution_count": 19,
     "metadata": {},
     "output_type": "execute_result"
    }
   ],
   "source": [
    "df[df.title.str.contains(\"towards data\", case=False)]"
   ]
  },
  {
   "cell_type": "code",
   "execution_count": 20,
   "metadata": {},
   "outputs": [
    {
     "data": {
      "text/plain": [
       "Index(['title', 'subtitle', 'author', 'date', 'reading_time_str', 'claps_str',\n",
       "       'id', 'claps', 'reading_time', 'daily_rank', 'daily_count'],\n",
       "      dtype='object')"
      ]
     },
     "execution_count": 20,
     "metadata": {},
     "output_type": "execute_result"
    }
   ],
   "source": [
    "df.columns"
   ]
  },
  {
   "cell_type": "code",
   "execution_count": 21,
   "metadata": {},
   "outputs": [],
   "source": [
    "df.loc[:, \"daily_perc\"] = df.daily_rank / df.daily_count"
   ]
  },
  {
   "cell_type": "code",
   "execution_count": 22,
   "metadata": {},
   "outputs": [
    {
     "data": {
      "text/html": [
       "<div>\n",
       "<style scoped>\n",
       "    .dataframe tbody tr th:only-of-type {\n",
       "        vertical-align: middle;\n",
       "    }\n",
       "\n",
       "    .dataframe tbody tr th {\n",
       "        vertical-align: top;\n",
       "    }\n",
       "\n",
       "    .dataframe thead th {\n",
       "        text-align: right;\n",
       "    }\n",
       "</style>\n",
       "<table border=\"1\" class=\"dataframe\">\n",
       "  <thead>\n",
       "    <tr style=\"text-align: right;\">\n",
       "      <th></th>\n",
       "      <th>title</th>\n",
       "      <th>subtitle</th>\n",
       "      <th>author</th>\n",
       "      <th>date</th>\n",
       "      <th>reading_time_str</th>\n",
       "      <th>claps_str</th>\n",
       "      <th>id</th>\n",
       "      <th>claps</th>\n",
       "      <th>reading_time</th>\n",
       "      <th>daily_rank</th>\n",
       "      <th>daily_count</th>\n",
       "      <th>daily_perc</th>\n",
       "    </tr>\n",
       "  </thead>\n",
       "  <tbody>\n",
       "    <tr>\n",
       "      <th>0</th>\n",
       "      <td>How to get started in NLP</td>\n",
       "      <td></td>\n",
       "      <td>Melanie Tosik</td>\n",
       "      <td>2017-05-01</td>\n",
       "      <td>3 min read</td>\n",
       "      <td>1.8K</td>\n",
       "      <td>-2687214078395011387</td>\n",
       "      <td>1800</td>\n",
       "      <td>3</td>\n",
       "      <td>1</td>\n",
       "      <td>10</td>\n",
       "      <td>0.100000</td>\n",
       "    </tr>\n",
       "    <tr>\n",
       "      <th>1</th>\n",
       "      <td>Data Cleaning Web Scraped Job Data</td>\n",
       "      <td></td>\n",
       "      <td>Michael Salmon</td>\n",
       "      <td>2017-05-01</td>\n",
       "      <td>7 min read</td>\n",
       "      <td>83</td>\n",
       "      <td>5442391382944481526</td>\n",
       "      <td>83</td>\n",
       "      <td>7</td>\n",
       "      <td>2</td>\n",
       "      <td>10</td>\n",
       "      <td>0.200000</td>\n",
       "    </tr>\n",
       "    <tr>\n",
       "      <th>2</th>\n",
       "      <td>Reinforcement Learning : Its necessity and cha...</td>\n",
       "      <td></td>\n",
       "      <td>Ashis Samal</td>\n",
       "      <td>2017-05-01</td>\n",
       "      <td>3 min read</td>\n",
       "      <td>31</td>\n",
       "      <td>8620039918763821418</td>\n",
       "      <td>31</td>\n",
       "      <td>3</td>\n",
       "      <td>3</td>\n",
       "      <td>10</td>\n",
       "      <td>0.300000</td>\n",
       "    </tr>\n",
       "    <tr>\n",
       "      <th>3</th>\n",
       "      <td>Tracking a self-driving car with high precision</td>\n",
       "      <td></td>\n",
       "      <td>Priya Dwivedi</td>\n",
       "      <td>2017-05-01</td>\n",
       "      <td>5 min read</td>\n",
       "      <td>54</td>\n",
       "      <td>1226441970623994698</td>\n",
       "      <td>54</td>\n",
       "      <td>5</td>\n",
       "      <td>4</td>\n",
       "      <td>10</td>\n",
       "      <td>0.400000</td>\n",
       "    </tr>\n",
       "    <tr>\n",
       "      <th>4</th>\n",
       "      <td>A Mistake Most Humans Make</td>\n",
       "      <td></td>\n",
       "      <td>Matt Brems</td>\n",
       "      <td>2017-05-01</td>\n",
       "      <td>5 min read</td>\n",
       "      <td>19</td>\n",
       "      <td>1295033961457500465</td>\n",
       "      <td>19</td>\n",
       "      <td>5</td>\n",
       "      <td>5</td>\n",
       "      <td>10</td>\n",
       "      <td>0.500000</td>\n",
       "    </tr>\n",
       "    <tr>\n",
       "      <th>...</th>\n",
       "      <td>...</td>\n",
       "      <td>...</td>\n",
       "      <td>...</td>\n",
       "      <td>...</td>\n",
       "      <td>...</td>\n",
       "      <td>...</td>\n",
       "      <td>...</td>\n",
       "      <td>...</td>\n",
       "      <td>...</td>\n",
       "      <td>...</td>\n",
       "      <td>...</td>\n",
       "      <td>...</td>\n",
       "    </tr>\n",
       "    <tr>\n",
       "      <th>21709</th>\n",
       "      <td>Categorical Encoding Techniques</td>\n",
       "      <td>Methods to encode categorical variables using ...</td>\n",
       "      <td>Tara Boyle</td>\n",
       "      <td>2020-04-04</td>\n",
       "      <td>6 min read</td>\n",
       "      <td>54</td>\n",
       "      <td>-4199123943500876952</td>\n",
       "      <td>54</td>\n",
       "      <td>6</td>\n",
       "      <td>24</td>\n",
       "      <td>28</td>\n",
       "      <td>0.857143</td>\n",
       "    </tr>\n",
       "    <tr>\n",
       "      <th>21710</th>\n",
       "      <td>NumPy Array Manipulation</td>\n",
       "      <td>A practical guide to modify the shape of arrays</td>\n",
       "      <td>Soner Yildirim</td>\n",
       "      <td>2020-04-04</td>\n",
       "      <td>4 min read</td>\n",
       "      <td>52</td>\n",
       "      <td>-6902682238967475073</td>\n",
       "      <td>52</td>\n",
       "      <td>4</td>\n",
       "      <td>25</td>\n",
       "      <td>28</td>\n",
       "      <td>0.892857</td>\n",
       "    </tr>\n",
       "    <tr>\n",
       "      <th>21711</th>\n",
       "      <td>Monitor Your Dependencies! Stop Being A Blind ...</td>\n",
       "      <td>Reasons for monitoring your model…</td>\n",
       "      <td>Ori Cohen</td>\n",
       "      <td>2020-04-04</td>\n",
       "      <td>4 min read</td>\n",
       "      <td>23</td>\n",
       "      <td>1373197229551170572</td>\n",
       "      <td>23</td>\n",
       "      <td>4</td>\n",
       "      <td>26</td>\n",
       "      <td>28</td>\n",
       "      <td>0.928571</td>\n",
       "    </tr>\n",
       "    <tr>\n",
       "      <th>21712</th>\n",
       "      <td>3 Questions You Should Ask Yourself When Creat...</td>\n",
       "      <td>And 3 memes to remember them</td>\n",
       "      <td>Marie Lefevre</td>\n",
       "      <td>2020-04-04</td>\n",
       "      <td>6 min read</td>\n",
       "      <td>17</td>\n",
       "      <td>-8075319494997350328</td>\n",
       "      <td>17</td>\n",
       "      <td>6</td>\n",
       "      <td>27</td>\n",
       "      <td>28</td>\n",
       "      <td>0.964286</td>\n",
       "    </tr>\n",
       "    <tr>\n",
       "      <th>21713</th>\n",
       "      <td>An overview of the Multiple Comparison problem</td>\n",
       "      <td>This article presents the Multiple Comparison ...</td>\n",
       "      <td>Javier Fernandez</td>\n",
       "      <td>2020-04-04</td>\n",
       "      <td>4 min read</td>\n",
       "      <td>1</td>\n",
       "      <td>8261218902389705528</td>\n",
       "      <td>1</td>\n",
       "      <td>4</td>\n",
       "      <td>28</td>\n",
       "      <td>28</td>\n",
       "      <td>1.000000</td>\n",
       "    </tr>\n",
       "  </tbody>\n",
       "</table>\n",
       "<p>21683 rows × 12 columns</p>\n",
       "</div>"
      ],
      "text/plain": [
       "                                                   title  \\\n",
       "0                              How to get started in NLP   \n",
       "1                     Data Cleaning Web Scraped Job Data   \n",
       "2      Reinforcement Learning : Its necessity and cha...   \n",
       "3        Tracking a self-driving car with high precision   \n",
       "4                             A Mistake Most Humans Make   \n",
       "...                                                  ...   \n",
       "21709                    Categorical Encoding Techniques   \n",
       "21710                           NumPy Array Manipulation   \n",
       "21711  Monitor Your Dependencies! Stop Being A Blind ...   \n",
       "21712  3 Questions You Should Ask Yourself When Creat...   \n",
       "21713     An overview of the Multiple Comparison problem   \n",
       "\n",
       "                                                subtitle            author  \\\n",
       "0                                                            Melanie Tosik   \n",
       "1                                                           Michael Salmon   \n",
       "2                                                              Ashis Samal   \n",
       "3                                                            Priya Dwivedi   \n",
       "4                                                               Matt Brems   \n",
       "...                                                  ...               ...   \n",
       "21709  Methods to encode categorical variables using ...        Tara Boyle   \n",
       "21710    A practical guide to modify the shape of arrays    Soner Yildirim   \n",
       "21711                 Reasons for monitoring your model…         Ori Cohen   \n",
       "21712                       And 3 memes to remember them     Marie Lefevre   \n",
       "21713  This article presents the Multiple Comparison ...  Javier Fernandez   \n",
       "\n",
       "            date reading_time_str claps_str                   id  claps  \\\n",
       "0     2017-05-01       3 min read      1.8K -2687214078395011387   1800   \n",
       "1     2017-05-01       7 min read        83  5442391382944481526     83   \n",
       "2     2017-05-01       3 min read        31  8620039918763821418     31   \n",
       "3     2017-05-01       5 min read        54  1226441970623994698     54   \n",
       "4     2017-05-01       5 min read        19  1295033961457500465     19   \n",
       "...          ...              ...       ...                  ...    ...   \n",
       "21709 2020-04-04       6 min read        54 -4199123943500876952     54   \n",
       "21710 2020-04-04       4 min read        52 -6902682238967475073     52   \n",
       "21711 2020-04-04       4 min read        23  1373197229551170572     23   \n",
       "21712 2020-04-04       6 min read        17 -8075319494997350328     17   \n",
       "21713 2020-04-04       4 min read         1  8261218902389705528      1   \n",
       "\n",
       "       reading_time  daily_rank  daily_count  daily_perc  \n",
       "0                 3           1           10    0.100000  \n",
       "1                 7           2           10    0.200000  \n",
       "2                 3           3           10    0.300000  \n",
       "3                 5           4           10    0.400000  \n",
       "4                 5           5           10    0.500000  \n",
       "...             ...         ...          ...         ...  \n",
       "21709             6          24           28    0.857143  \n",
       "21710             4          25           28    0.892857  \n",
       "21711             4          26           28    0.928571  \n",
       "21712             6          27           28    0.964286  \n",
       "21713             4          28           28    1.000000  \n",
       "\n",
       "[21683 rows x 12 columns]"
      ]
     },
     "execution_count": 22,
     "metadata": {},
     "output_type": "execute_result"
    }
   ],
   "source": [
    "df"
   ]
  },
  {
   "cell_type": "code",
   "execution_count": 23,
   "metadata": {},
   "outputs": [],
   "source": [
    "#df[(df.date >= '2020-04-01') & (df.date <= '2020-04-30')].sort_values('claps')[::-1]"
   ]
  },
  {
   "cell_type": "code",
   "execution_count": 24,
   "metadata": {},
   "outputs": [],
   "source": [
    "#df[df.author == 'Roman Orac'].sort_values('daily_rank')"
   ]
  },
  {
   "cell_type": "code",
   "execution_count": 25,
   "metadata": {},
   "outputs": [],
   "source": [
    "df[\"title_list\"] = df.title.str.split()\n",
    "df[\"subtitle_list\"] = df.subtitle.str.split()\n",
    "df[\"day\"] = df.date.dt.day_name()"
   ]
  },
  {
   "cell_type": "code",
   "execution_count": 26,
   "metadata": {},
   "outputs": [
    {
     "data": {
      "text/plain": [
       "<matplotlib.axes._subplots.AxesSubplot at 0x119345668>"
      ]
     },
     "execution_count": 26,
     "metadata": {},
     "output_type": "execute_result"
    },
    {
     "data": {
      "image/png": "[encoded data removed]",
      "text/plain": [
       "<Figure size 1008x504 with 1 Axes>"
      ]
     },
     "metadata": {},
     "output_type": "display_data"
    }
   ],
   "source": [
    "df.groupby(\"date\").daily_rank.max().plot(figsize=(14, 7))"
   ]
  },
  {
   "cell_type": "code",
   "execution_count": 27,
   "metadata": {},
   "outputs": [
    {
     "data": {
      "text/plain": [
       "<matplotlib.axes._subplots.AxesSubplot at 0x11b418588>"
      ]
     },
     "execution_count": 27,
     "metadata": {},
     "output_type": "execute_result"
    },
    {
     "data": {
      "image/png": "[encoded data removed]",
      "text/plain": [
       "<Figure size 432x288 with 1 Axes>"
      ]
     },
     "metadata": {},
     "output_type": "display_data"
    }
   ],
   "source": [
    "df.plot.scatter(x=\"day\", y=\"claps\")"
   ]
  },
  {
   "cell_type": "code",
   "execution_count": 28,
   "metadata": {},
   "outputs": [
    {
     "data": {
      "text/html": [
       "<div>\n",
       "<style scoped>\n",
       "    .dataframe tbody tr th:only-of-type {\n",
       "        vertical-align: middle;\n",
       "    }\n",
       "\n",
       "    .dataframe tbody tr th {\n",
       "        vertical-align: top;\n",
       "    }\n",
       "\n",
       "    .dataframe thead th {\n",
       "        text-align: right;\n",
       "    }\n",
       "</style>\n",
       "<table border=\"1\" class=\"dataframe\">\n",
       "  <thead>\n",
       "    <tr style=\"text-align: right;\">\n",
       "      <th></th>\n",
       "      <th>count</th>\n",
       "      <th>mean</th>\n",
       "      <th>std</th>\n",
       "      <th>min</th>\n",
       "      <th>25%</th>\n",
       "      <th>50%</th>\n",
       "      <th>75%</th>\n",
       "      <th>max</th>\n",
       "    </tr>\n",
       "    <tr>\n",
       "      <th>day</th>\n",
       "      <th></th>\n",
       "      <th></th>\n",
       "      <th></th>\n",
       "      <th></th>\n",
       "      <th></th>\n",
       "      <th></th>\n",
       "      <th></th>\n",
       "      <th></th>\n",
       "    </tr>\n",
       "  </thead>\n",
       "  <tbody>\n",
       "    <tr>\n",
       "      <th>Friday</th>\n",
       "      <td>2030.0</td>\n",
       "      <td>258.548768</td>\n",
       "      <td>601.773437</td>\n",
       "      <td>0.0</td>\n",
       "      <td>37.0</td>\n",
       "      <td>102.0</td>\n",
       "      <td>244.00</td>\n",
       "      <td>11000.0</td>\n",
       "    </tr>\n",
       "    <tr>\n",
       "      <th>Monday</th>\n",
       "      <td>2553.0</td>\n",
       "      <td>250.032119</td>\n",
       "      <td>518.759064</td>\n",
       "      <td>0.0</td>\n",
       "      <td>39.0</td>\n",
       "      <td>109.0</td>\n",
       "      <td>257.00</td>\n",
       "      <td>10200.0</td>\n",
       "    </tr>\n",
       "    <tr>\n",
       "      <th>Saturday</th>\n",
       "      <td>1577.0</td>\n",
       "      <td>250.781864</td>\n",
       "      <td>589.147700</td>\n",
       "      <td>0.0</td>\n",
       "      <td>33.0</td>\n",
       "      <td>101.0</td>\n",
       "      <td>246.00</td>\n",
       "      <td>11800.0</td>\n",
       "    </tr>\n",
       "    <tr>\n",
       "      <th>Sunday</th>\n",
       "      <td>1819.0</td>\n",
       "      <td>261.615723</td>\n",
       "      <td>596.420691</td>\n",
       "      <td>0.0</td>\n",
       "      <td>38.0</td>\n",
       "      <td>105.0</td>\n",
       "      <td>252.00</td>\n",
       "      <td>11100.0</td>\n",
       "    </tr>\n",
       "    <tr>\n",
       "      <th>Thursday</th>\n",
       "      <td>2154.0</td>\n",
       "      <td>235.472145</td>\n",
       "      <td>532.282819</td>\n",
       "      <td>0.0</td>\n",
       "      <td>37.0</td>\n",
       "      <td>109.0</td>\n",
       "      <td>251.75</td>\n",
       "      <td>10900.0</td>\n",
       "    </tr>\n",
       "    <tr>\n",
       "      <th>Tuesday</th>\n",
       "      <td>2327.0</td>\n",
       "      <td>234.853459</td>\n",
       "      <td>566.206293</td>\n",
       "      <td>0.0</td>\n",
       "      <td>34.0</td>\n",
       "      <td>100.0</td>\n",
       "      <td>236.00</td>\n",
       "      <td>11900.0</td>\n",
       "    </tr>\n",
       "    <tr>\n",
       "      <th>Wednesday</th>\n",
       "      <td>2249.0</td>\n",
       "      <td>256.584704</td>\n",
       "      <td>749.788115</td>\n",
       "      <td>0.0</td>\n",
       "      <td>37.0</td>\n",
       "      <td>102.0</td>\n",
       "      <td>249.00</td>\n",
       "      <td>17100.0</td>\n",
       "    </tr>\n",
       "  </tbody>\n",
       "</table>\n",
       "</div>"
      ],
      "text/plain": [
       "            count        mean         std  min   25%    50%     75%      max\n",
       "day                                                                         \n",
       "Friday     2030.0  258.548768  601.773437  0.0  37.0  102.0  244.00  11000.0\n",
       "Monday     2553.0  250.032119  518.759064  0.0  39.0  109.0  257.00  10200.0\n",
       "Saturday   1577.0  250.781864  589.147700  0.0  33.0  101.0  246.00  11800.0\n",
       "Sunday     1819.0  261.615723  596.420691  0.0  38.0  105.0  252.00  11100.0\n",
       "Thursday   2154.0  235.472145  532.282819  0.0  37.0  109.0  251.75  10900.0\n",
       "Tuesday    2327.0  234.853459  566.206293  0.0  34.0  100.0  236.00  11900.0\n",
       "Wednesday  2249.0  256.584704  749.788115  0.0  37.0  102.0  249.00  17100.0"
      ]
     },
     "execution_count": 28,
     "metadata": {},
     "output_type": "execute_result"
    }
   ],
   "source": [
    "df[df.date > \"2019-01-01\"].groupby(\"day\").claps.describe()"
   ]
  },
  {
   "cell_type": "code",
   "execution_count": 181,
   "metadata": {},
   "outputs": [
    {
     "data": {
      "text/plain": [
       "(3217, 15)"
      ]
     },
     "execution_count": 181,
     "metadata": {},
     "output_type": "execute_result"
    }
   ],
   "source": [
    "df_low = df[(df.date > \"2019-01-01\") & (df.daily_count >= 10) & (df.daily_perc >= 0.8)]\n",
    "df_low.shape"
   ]
  },
  {
   "cell_type": "code",
   "execution_count": 182,
   "metadata": {},
   "outputs": [
    {
     "data": {
      "text/plain": [
       "count     3217.000000\n",
       "mean        68.142058\n",
       "std        299.244825\n",
       "min          0.000000\n",
       "25%          8.000000\n",
       "50%         26.000000\n",
       "75%         73.000000\n",
       "max      15800.000000\n",
       "Name: claps, dtype: float64"
      ]
     },
     "execution_count": 182,
     "metadata": {},
     "output_type": "execute_result"
    }
   ],
   "source": [
    "df_low.claps.describe()"
   ]
  },
  {
   "cell_type": "code",
   "execution_count": 183,
   "metadata": {},
   "outputs": [
    {
     "data": {
      "text/plain": [
       "(2759, 15)"
      ]
     },
     "execution_count": 183,
     "metadata": {},
     "output_type": "execute_result"
    }
   ],
   "source": [
    "df_up = df[(df.date > \"2019-01-01\") & (df.daily_count >= 10) & (df.daily_perc <= 0.2)]\n",
    "df_up.shape"
   ]
  },
  {
   "cell_type": "code",
   "execution_count": 187,
   "metadata": {},
   "outputs": [
    {
     "data": {
      "text/plain": [
       "(6, 15)"
      ]
     },
     "execution_count": 187,
     "metadata": {},
     "output_type": "execute_result"
    }
   ],
   "source": [
    "df[(df.date == '2020-04-04') & (df.daily_perc  >=0.8)].shape"
   ]
  },
  {
   "cell_type": "code",
   "execution_count": 49,
   "metadata": {},
   "outputs": [
    {
     "data": {
      "text/plain": [
       "<matplotlib.axes._subplots.AxesSubplot at 0x12c35ab70>"
      ]
     },
     "execution_count": 49,
     "metadata": {},
     "output_type": "execute_result"
    },
    {
     "data": {
      "image/png": "[encoded data removed]",
      "text/plain": [
       "<Figure size 1512x504 with 2 Axes>"
      ]
     },
     "metadata": {},
     "output_type": "display_data"
    }
   ],
   "source": [
    "fig, ax = plt.subplots(1, 2, figsize=(21, 7))\n",
    "fig.suptitle(\"Claps distribution of TDS articles\", fontsize=16)\n",
    "\n",
    "ax[0].set_title(\"Underperformers\")\n",
    "df_low.claps.plot.box(ax=ax[0], ylim=(0, 200))\n",
    "\n",
    "ax[1].set_title(\"Overperformers\")\n",
    "df_up.claps.plot.box(ax=ax[1], ylim=(0, 2000))"
   ]
  },
  {
   "cell_type": "code",
   "execution_count": 32,
   "metadata": {},
   "outputs": [
    {
     "data": {
      "text/plain": [
       "count     2759.000000\n",
       "mean       729.817688\n",
       "std       1165.812661\n",
       "min          4.000000\n",
       "25%        201.000000\n",
       "50%        394.000000\n",
       "75%        771.000000\n",
       "max      17100.000000\n",
       "Name: claps, dtype: float64"
      ]
     },
     "execution_count": 32,
     "metadata": {},
     "output_type": "execute_result"
    }
   ],
   "source": [
    "df_up.claps.describe()"
   ]
  },
  {
   "cell_type": "code",
   "execution_count": 165,
   "metadata": {},
   "outputs": [],
   "source": [
    "from sklearn.feature_extraction.text import CountVectorizer\n",
    "\n",
    "cv_low = CountVectorizer(ngram_range=(1, 5), max_features=1000000, stop_words=[])\n",
    "cv_up = CountVectorizer(ngram_range=(1, 5), max_features=1000000, stop_words=[])"
   ]
  },
  {
   "cell_type": "code",
   "execution_count": 166,
   "metadata": {},
   "outputs": [],
   "source": [
    "cv_low_fit = cv_low.fit_transform(df_low.title.values)\n",
    "cv_up_fit = cv_up.fit_transform(df_up.title.values)"
   ]
  },
  {
   "cell_type": "code",
   "execution_count": 167,
   "metadata": {},
   "outputs": [],
   "source": [
    "word_list_low = cv_low.get_feature_names()\n",
    "count_list_low = cv_low_fit.toarray().sum(axis=0)"
   ]
  },
  {
   "cell_type": "code",
   "execution_count": 168,
   "metadata": {},
   "outputs": [],
   "source": [
    "word_list_up = cv_up.get_feature_names()\n",
    "count_list_up = cv_up_fit.toarray().sum(axis=0)"
   ]
  },
  {
   "cell_type": "code",
   "execution_count": 169,
   "metadata": {},
   "outputs": [],
   "source": [
    "df_freq_low = pd.DataFrame({\"n_gram\": word_list_low, \"n\": count_list_low})\n",
    "df_freq_up = pd.DataFrame({\"n_gram\": word_list_up, \"n\": count_list_up})"
   ]
  },
  {
   "cell_type": "code",
   "execution_count": 170,
   "metadata": {},
   "outputs": [
    {
     "data": {
      "text/html": [
       "<div>\n",
       "<style scoped>\n",
       "    .dataframe tbody tr th:only-of-type {\n",
       "        vertical-align: middle;\n",
       "    }\n",
       "\n",
       "    .dataframe tbody tr th {\n",
       "        vertical-align: top;\n",
       "    }\n",
       "\n",
       "    .dataframe thead th {\n",
       "        text-align: right;\n",
       "    }\n",
       "</style>\n",
       "<table border=\"1\" class=\"dataframe\">\n",
       "  <thead>\n",
       "    <tr style=\"text-align: right;\">\n",
       "      <th></th>\n",
       "      <th>n</th>\n",
       "    </tr>\n",
       "    <tr>\n",
       "      <th>n_gram</th>\n",
       "      <th></th>\n",
       "    </tr>\n",
       "  </thead>\n",
       "  <tbody>\n",
       "    <tr>\n",
       "      <th>in data science</th>\n",
       "      <td>18</td>\n",
       "    </tr>\n",
       "    <tr>\n",
       "      <th>in machine learning</th>\n",
       "      <td>17</td>\n",
       "    </tr>\n",
       "    <tr>\n",
       "      <th>data science and</th>\n",
       "      <td>17</td>\n",
       "    </tr>\n",
       "    <tr>\n",
       "      <th>you need to</th>\n",
       "      <td>13</td>\n",
       "    </tr>\n",
       "    <tr>\n",
       "      <th>how to use</th>\n",
       "      <td>12</td>\n",
       "    </tr>\n",
       "    <tr>\n",
       "      <th>machine learning and</th>\n",
       "      <td>12</td>\n",
       "    </tr>\n",
       "    <tr>\n",
       "      <th>and machine learning</th>\n",
       "      <td>11</td>\n",
       "    </tr>\n",
       "    <tr>\n",
       "      <th>for machine learning</th>\n",
       "      <td>11</td>\n",
       "    </tr>\n",
       "    <tr>\n",
       "      <th>of data science</th>\n",
       "      <td>10</td>\n",
       "    </tr>\n",
       "    <tr>\n",
       "      <th>for data science</th>\n",
       "      <td>10</td>\n",
       "    </tr>\n",
       "  </tbody>\n",
       "</table>\n",
       "</div>"
      ],
      "text/plain": [
       "                       n\n",
       "n_gram                  \n",
       "in data science       18\n",
       "in machine learning   17\n",
       "data science and      17\n",
       "you need to           13\n",
       "how to use            12\n",
       "machine learning and  12\n",
       "and machine learning  11\n",
       "for machine learning  11\n",
       "of data science       10\n",
       "for data science      10"
      ]
     },
     "execution_count": 170,
     "metadata": {},
     "output_type": "execute_result"
    }
   ],
   "source": [
    "df_freq_low[df_freq_low.n_gram.str.split().str.len() == 3].sort_values(\"n\")[::-1].head(\n",
    "    10\n",
    ").set_index(\"n_gram\")"
   ]
  },
  {
   "cell_type": "code",
   "execution_count": null,
   "metadata": {},
   "outputs": [],
   "source": []
  },
  {
   "cell_type": "code",
   "execution_count": 152,
   "metadata": {},
   "outputs": [
    {
     "data": {
      "text/plain": [
       "33"
      ]
     },
     "execution_count": 152,
     "metadata": {},
     "output_type": "execute_result"
    }
   ],
   "source": [
    "df_freq_up[df_freq_up.n_gram == \"for data science\"].iloc[0].n"
   ]
  },
  {
   "cell_type": "code",
   "execution_count": 140,
   "metadata": {},
   "outputs": [
    {
     "data": {
      "text/html": [
       "<div>\n",
       "<style scoped>\n",
       "    .dataframe tbody tr th:only-of-type {\n",
       "        vertical-align: middle;\n",
       "    }\n",
       "\n",
       "    .dataframe tbody tr th {\n",
       "        vertical-align: top;\n",
       "    }\n",
       "\n",
       "    .dataframe thead th {\n",
       "        text-align: right;\n",
       "    }\n",
       "</style>\n",
       "<table border=\"1\" class=\"dataframe\">\n",
       "  <thead>\n",
       "    <tr style=\"text-align: right;\">\n",
       "      <th></th>\n",
       "      <th>n</th>\n",
       "    </tr>\n",
       "    <tr>\n",
       "      <th>n_gram</th>\n",
       "      <th></th>\n",
       "    </tr>\n",
       "  </thead>\n",
       "  <tbody>\n",
       "    <tr>\n",
       "      <th>for data science</th>\n",
       "      <td>33</td>\n",
       "    </tr>\n",
       "    <tr>\n",
       "      <th>for data scientists</th>\n",
       "      <td>32</td>\n",
       "    </tr>\n",
       "    <tr>\n",
       "      <th>step by step</th>\n",
       "      <td>31</td>\n",
       "    </tr>\n",
       "    <tr>\n",
       "      <th>in data science</th>\n",
       "      <td>27</td>\n",
       "    </tr>\n",
       "    <tr>\n",
       "      <th>beginner guide to</th>\n",
       "      <td>25</td>\n",
       "    </tr>\n",
       "    <tr>\n",
       "      <th>need to know</th>\n",
       "      <td>22</td>\n",
       "    </tr>\n",
       "    <tr>\n",
       "      <th>in machine learning</th>\n",
       "      <td>20</td>\n",
       "    </tr>\n",
       "    <tr>\n",
       "      <th>you need to</th>\n",
       "      <td>19</td>\n",
       "    </tr>\n",
       "    <tr>\n",
       "      <th>how to use</th>\n",
       "      <td>19</td>\n",
       "    </tr>\n",
       "    <tr>\n",
       "      <th>for machine learning</th>\n",
       "      <td>18</td>\n",
       "    </tr>\n",
       "  </tbody>\n",
       "</table>\n",
       "</div>"
      ],
      "text/plain": [
       "                       n\n",
       "n_gram                  \n",
       "for data science      33\n",
       "for data scientists   32\n",
       "step by step          31\n",
       "in data science       27\n",
       "beginner guide to     25\n",
       "need to know          22\n",
       "in machine learning   20\n",
       "you need to           19\n",
       "how to use            19\n",
       "for machine learning  18"
      ]
     },
     "execution_count": 140,
     "metadata": {},
     "output_type": "execute_result"
    }
   ],
   "source": [
    "df_freq_up[df_freq_up.n_gram.str.split().str.len() == 3].sort_values(\"n\")[::-1].head(10).set_index(\n",
    "    \"n_gram\"\n",
    ")"
   ]
  },
  {
   "cell_type": "code",
   "execution_count": 173,
   "metadata": {},
   "outputs": [],
   "source": [
    "df_np = pd.DataFrame(columns=[\"3-gram\", \"n\"])\n",
    "bad_tokens = set(\n",
    "    df_freq_low[df_freq_low.n_gram.str.split().str.len() == 3]\n",
    "    .sort_values(\"n\")[::-1]\n",
    "    .head(1009)\n",
    "    .n_gram.tolist()\n",
    ")\n",
    "for token in (\n",
    "    df_freq_up[df_freq_up.n_gram.str.split().str.len() == 3]\n",
    "    .sort_values(\"n\")[::-1]\n",
    "    .head(100)\n",
    "    .n_gram.tolist()\n",
    "):\n",
    "    if token not in bad_tokens:\n",
    "        df_np = df_np.append(\n",
    "            {\"3-gram\": token, \"n\": df_freq_up[df_freq_up.n_gram == token].iloc[0].n},\n",
    "            ignore_index=True,\n",
    "        )"
   ]
  },
  {
   "cell_type": "code",
   "execution_count": 174,
   "metadata": {},
   "outputs": [
    {
     "data": {
      "text/html": [
       "<div>\n",
       "<style scoped>\n",
       "    .dataframe tbody tr th:only-of-type {\n",
       "        vertical-align: middle;\n",
       "    }\n",
       "\n",
       "    .dataframe tbody tr th {\n",
       "        vertical-align: top;\n",
       "    }\n",
       "\n",
       "    .dataframe thead th {\n",
       "        text-align: right;\n",
       "    }\n",
       "</style>\n",
       "<table border=\"1\" class=\"dataframe\">\n",
       "  <thead>\n",
       "    <tr style=\"text-align: right;\">\n",
       "      <th></th>\n",
       "      <th>3-gram</th>\n",
       "      <th>n</th>\n",
       "    </tr>\n",
       "  </thead>\n",
       "  <tbody>\n",
       "    <tr>\n",
       "      <th>0</th>\n",
       "      <td>beginner guide to</td>\n",
       "      <td>25</td>\n",
       "    </tr>\n",
       "    <tr>\n",
       "      <th>1</th>\n",
       "      <td>time series analysis</td>\n",
       "      <td>14</td>\n",
       "    </tr>\n",
       "    <tr>\n",
       "      <th>2</th>\n",
       "      <td>every data scientist</td>\n",
       "      <td>13</td>\n",
       "    </tr>\n",
       "    <tr>\n",
       "      <th>3</th>\n",
       "      <td>data science job</td>\n",
       "      <td>11</td>\n",
       "    </tr>\n",
       "    <tr>\n",
       "      <th>4</th>\n",
       "      <td>data scientist should</td>\n",
       "      <td>10</td>\n",
       "    </tr>\n",
       "    <tr>\n",
       "      <th>5</th>\n",
       "      <td>convolutional neural network</td>\n",
       "      <td>10</td>\n",
       "    </tr>\n",
       "    <tr>\n",
       "      <th>6</th>\n",
       "      <td>from scratch in</td>\n",
       "      <td>9</td>\n",
       "    </tr>\n",
       "    <tr>\n",
       "      <th>7</th>\n",
       "      <td>for time series</td>\n",
       "      <td>9</td>\n",
       "    </tr>\n",
       "    <tr>\n",
       "      <th>8</th>\n",
       "      <td>scientist should know</td>\n",
       "      <td>9</td>\n",
       "    </tr>\n",
       "    <tr>\n",
       "      <th>9</th>\n",
       "      <td>data scientist interview</td>\n",
       "      <td>8</td>\n",
       "    </tr>\n",
       "    <tr>\n",
       "      <th>10</th>\n",
       "      <td>become data scientist</td>\n",
       "      <td>8</td>\n",
       "    </tr>\n",
       "    <tr>\n",
       "      <th>11</th>\n",
       "      <td>lines of code</td>\n",
       "      <td>8</td>\n",
       "    </tr>\n",
       "    <tr>\n",
       "      <th>12</th>\n",
       "      <td>using deep learning</td>\n",
       "      <td>8</td>\n",
       "    </tr>\n",
       "    <tr>\n",
       "      <th>13</th>\n",
       "      <td>guide to data</td>\n",
       "      <td>8</td>\n",
       "    </tr>\n",
       "    <tr>\n",
       "      <th>14</th>\n",
       "      <td>you should read</td>\n",
       "      <td>7</td>\n",
       "    </tr>\n",
       "    <tr>\n",
       "      <th>15</th>\n",
       "      <td>neural networks for</td>\n",
       "      <td>7</td>\n",
       "    </tr>\n",
       "    <tr>\n",
       "      <th>16</th>\n",
       "      <td>linear regression in</td>\n",
       "      <td>7</td>\n",
       "    </tr>\n",
       "    <tr>\n",
       "      <th>17</th>\n",
       "      <td>python for data</td>\n",
       "      <td>7</td>\n",
       "    </tr>\n",
       "    <tr>\n",
       "      <th>18</th>\n",
       "      <td>data analysis with</td>\n",
       "      <td>7</td>\n",
       "    </tr>\n",
       "    <tr>\n",
       "      <th>19</th>\n",
       "      <td>visual studio code</td>\n",
       "      <td>7</td>\n",
       "    </tr>\n",
       "    <tr>\n",
       "      <th>20</th>\n",
       "      <td>in neural networks</td>\n",
       "      <td>7</td>\n",
       "    </tr>\n",
       "    <tr>\n",
       "      <th>21</th>\n",
       "      <td>time series data</td>\n",
       "      <td>7</td>\n",
       "    </tr>\n",
       "    <tr>\n",
       "      <th>22</th>\n",
       "      <td>regression in python</td>\n",
       "      <td>7</td>\n",
       "    </tr>\n",
       "    <tr>\n",
       "      <th>23</th>\n",
       "      <td>how you can</td>\n",
       "      <td>7</td>\n",
       "    </tr>\n",
       "    <tr>\n",
       "      <th>24</th>\n",
       "      <td>speed up your</td>\n",
       "      <td>7</td>\n",
       "    </tr>\n",
       "    <tr>\n",
       "      <th>25</th>\n",
       "      <td>books you should</td>\n",
       "      <td>7</td>\n",
       "    </tr>\n",
       "    <tr>\n",
       "      <th>26</th>\n",
       "      <td>the ultimate guide</td>\n",
       "      <td>7</td>\n",
       "    </tr>\n",
       "    <tr>\n",
       "      <th>27</th>\n",
       "      <td>complete guide to</td>\n",
       "      <td>7</td>\n",
       "    </tr>\n",
       "    <tr>\n",
       "      <th>28</th>\n",
       "      <td>scratch in python</td>\n",
       "      <td>7</td>\n",
       "    </tr>\n",
       "    <tr>\n",
       "      <th>29</th>\n",
       "      <td>complete beginner guide</td>\n",
       "      <td>7</td>\n",
       "    </tr>\n",
       "    <tr>\n",
       "      <th>30</th>\n",
       "      <td>learn data science</td>\n",
       "      <td>7</td>\n",
       "    </tr>\n",
       "    <tr>\n",
       "      <th>31</th>\n",
       "      <td>here how to</td>\n",
       "      <td>7</td>\n",
       "    </tr>\n",
       "    <tr>\n",
       "      <th>32</th>\n",
       "      <td>image classification with</td>\n",
       "      <td>7</td>\n",
       "    </tr>\n",
       "    <tr>\n",
       "      <th>33</th>\n",
       "      <td>for deep learning</td>\n",
       "      <td>7</td>\n",
       "    </tr>\n",
       "    <tr>\n",
       "      <th>34</th>\n",
       "      <td>anomaly detection with</td>\n",
       "      <td>6</td>\n",
       "    </tr>\n",
       "    <tr>\n",
       "      <th>35</th>\n",
       "      <td>my data science</td>\n",
       "      <td>6</td>\n",
       "    </tr>\n",
       "    <tr>\n",
       "      <th>36</th>\n",
       "      <td>read in 2020</td>\n",
       "      <td>6</td>\n",
       "    </tr>\n",
       "    <tr>\n",
       "      <th>37</th>\n",
       "      <td>neural network for</td>\n",
       "      <td>6</td>\n",
       "    </tr>\n",
       "    <tr>\n",
       "      <th>38</th>\n",
       "      <td>text classification with</td>\n",
       "      <td>6</td>\n",
       "    </tr>\n",
       "    <tr>\n",
       "      <th>39</th>\n",
       "      <td>in python with</td>\n",
       "      <td>6</td>\n",
       "    </tr>\n",
       "    <tr>\n",
       "      <th>40</th>\n",
       "      <td>that every data</td>\n",
       "      <td>6</td>\n",
       "    </tr>\n",
       "    <tr>\n",
       "      <th>41</th>\n",
       "      <td>covid 19 data</td>\n",
       "      <td>6</td>\n",
       "    </tr>\n",
       "    <tr>\n",
       "      <th>42</th>\n",
       "      <td>you don know</td>\n",
       "      <td>6</td>\n",
       "    </tr>\n",
       "    <tr>\n",
       "      <th>43</th>\n",
       "      <td>to learn data</td>\n",
       "      <td>6</td>\n",
       "    </tr>\n",
       "    <tr>\n",
       "      <th>44</th>\n",
       "      <td>by step tutorial</td>\n",
       "      <td>6</td>\n",
       "    </tr>\n",
       "    <tr>\n",
       "      <th>45</th>\n",
       "      <td>with scikit learn</td>\n",
       "      <td>6</td>\n",
       "    </tr>\n",
       "    <tr>\n",
       "      <th>46</th>\n",
       "      <td>analysis with python</td>\n",
       "      <td>6</td>\n",
       "    </tr>\n",
       "  </tbody>\n",
       "</table>\n",
       "</div>"
      ],
      "text/plain": [
       "                          3-gram   n\n",
       "0              beginner guide to  25\n",
       "1           time series analysis  14\n",
       "2           every data scientist  13\n",
       "3               data science job  11\n",
       "4          data scientist should  10\n",
       "5   convolutional neural network  10\n",
       "6                from scratch in   9\n",
       "7                for time series   9\n",
       "8          scientist should know   9\n",
       "9       data scientist interview   8\n",
       "10         become data scientist   8\n",
       "11                 lines of code   8\n",
       "12           using deep learning   8\n",
       "13                 guide to data   8\n",
       "14               you should read   7\n",
       "15           neural networks for   7\n",
       "16          linear regression in   7\n",
       "17               python for data   7\n",
       "18            data analysis with   7\n",
       "19            visual studio code   7\n",
       "20            in neural networks   7\n",
       "21              time series data   7\n",
       "22          regression in python   7\n",
       "23                   how you can   7\n",
       "24                 speed up your   7\n",
       "25              books you should   7\n",
       "26            the ultimate guide   7\n",
       "27             complete guide to   7\n",
       "28             scratch in python   7\n",
       "29       complete beginner guide   7\n",
       "30            learn data science   7\n",
       "31                   here how to   7\n",
       "32     image classification with   7\n",
       "33             for deep learning   7\n",
       "34        anomaly detection with   6\n",
       "35               my data science   6\n",
       "36                  read in 2020   6\n",
       "37            neural network for   6\n",
       "38      text classification with   6\n",
       "39                in python with   6\n",
       "40               that every data   6\n",
       "41                 covid 19 data   6\n",
       "42                  you don know   6\n",
       "43                 to learn data   6\n",
       "44              by step tutorial   6\n",
       "45             with scikit learn   6\n",
       "46          analysis with python   6"
      ]
     },
     "execution_count": 174,
     "metadata": {},
     "output_type": "execute_result"
    }
   ],
   "source": [
    "df_np"
   ]
  },
  {
   "cell_type": "code",
   "execution_count": 112,
   "metadata": {},
   "outputs": [
    {
     "data": {
      "text/plain": [
       "<matplotlib.axes._subplots.AxesSubplot at 0x12bb65860>"
      ]
     },
     "execution_count": 112,
     "metadata": {},
     "output_type": "execute_result"
    },
    {
     "data": {
      "image/png": "[encoded data removed]",
      "text/plain": [
       "<Figure size 1512x504 with 2 Axes>"
      ]
     },
     "metadata": {},
     "output_type": "display_data"
    }
   ],
   "source": [
    "fig, ax = plt.subplots(1, 2, figsize=(21, 7))\n",
    "fig.suptitle(\"Number of words in a title\", fontsize=16)\n",
    "\n",
    "ax[0].set_title(\"Underperformers\")\n",
    "\n",
    "df_low.title_list.str.len().plot.box(ax=ax[0])\n",
    "\n",
    "ax[1].set_title(\"Overperformers\")\n",
    "df_up.title_list.str.len().plot.box(ax=ax[1])"
   ]
  },
  {
   "cell_type": "code",
   "execution_count": 113,
   "metadata": {},
   "outputs": [
    {
     "data": {
      "text/plain": [
       "count    2759.000000\n",
       "mean        7.910837\n",
       "std         3.045942\n",
       "min         1.000000\n",
       "25%         6.000000\n",
       "50%         8.000000\n",
       "75%        10.000000\n",
       "max        21.000000\n",
       "Name: title_list, dtype: float64"
      ]
     },
     "execution_count": 113,
     "metadata": {},
     "output_type": "execute_result"
    }
   ],
   "source": [
    "df_up.title_list.str.len().describe()"
   ]
  },
  {
   "cell_type": "code",
   "execution_count": 114,
   "metadata": {},
   "outputs": [
    {
     "data": {
      "text/plain": [
       "count    3217.000000\n",
       "mean        7.692571\n",
       "std         3.057744\n",
       "min         1.000000\n",
       "25%         5.000000\n",
       "50%         7.000000\n",
       "75%        10.000000\n",
       "max        22.000000\n",
       "Name: title_list, dtype: float64"
      ]
     },
     "execution_count": 114,
     "metadata": {},
     "output_type": "execute_result"
    }
   ],
   "source": [
    "df_low.title_list.str.len().describe()"
   ]
  },
  {
   "cell_type": "code",
   "execution_count": 115,
   "metadata": {},
   "outputs": [
    {
     "data": {
      "text/plain": [
       "7032                                                      \n",
       "7033         Becoming less wrong about the world with data\n",
       "7034             Let me start with some facts that I have…\n",
       "7035                                                      \n",
       "7036        Basic Requirements for (Data-Related) Projects\n",
       "                               ...                        \n",
       "21709    Methods to encode categorical variables using ...\n",
       "21710      A practical guide to modify the shape of arrays\n",
       "21711                   Reasons for monitoring your model…\n",
       "21712                         And 3 memes to remember them\n",
       "21713    This article presents the Multiple Comparison ...\n",
       "Name: subtitle, Length: 3217, dtype: object"
      ]
     },
     "execution_count": 115,
     "metadata": {},
     "output_type": "execute_result"
    }
   ],
   "source": [
    "df_low.subtitle"
   ]
  },
  {
   "cell_type": "code",
   "execution_count": 116,
   "metadata": {},
   "outputs": [],
   "source": [
    "from sklearn.feature_extraction.text import CountVectorizer\n",
    "\n",
    "cv_low = CountVectorizer(ngram_range=(1, 5), max_features=1000000, stop_words=[])\n",
    "cv_up = CountVectorizer(ngram_range=(1, 5), max_features=1000000, stop_words=[])"
   ]
  },
  {
   "cell_type": "code",
   "execution_count": 117,
   "metadata": {},
   "outputs": [],
   "source": [
    "cv_low_fit = cv_low.fit_transform(df_low.subtitle.values)\n",
    "cv_up_fit = cv_up.fit_transform(df_up.subtitle.values)"
   ]
  },
  {
   "cell_type": "code",
   "execution_count": 118,
   "metadata": {},
   "outputs": [],
   "source": [
    "word_list_low = cv_low.get_feature_names()\n",
    "count_list_low = cv_low_fit.toarray().sum(axis=0)"
   ]
  },
  {
   "cell_type": "code",
   "execution_count": 119,
   "metadata": {},
   "outputs": [],
   "source": [
    "word_list_up = cv_up.get_feature_names()\n",
    "count_list_up = cv_up_fit.toarray().sum(axis=0)"
   ]
  },
  {
   "cell_type": "code",
   "execution_count": 120,
   "metadata": {},
   "outputs": [],
   "source": [
    "df_freq_low = pd.DataFrame({\"n_gram\": word_list_low, \"n\": count_list_low})\n",
    "df_freq_up = pd.DataFrame({\"n_gram\": word_list_up, \"n\": count_list_up})"
   ]
  },
  {
   "cell_type": "code",
   "execution_count": 121,
   "metadata": {},
   "outputs": [
    {
     "data": {
      "text/html": [
       "<div>\n",
       "<style scoped>\n",
       "    .dataframe tbody tr th:only-of-type {\n",
       "        vertical-align: middle;\n",
       "    }\n",
       "\n",
       "    .dataframe tbody tr th {\n",
       "        vertical-align: top;\n",
       "    }\n",
       "\n",
       "    .dataframe thead th {\n",
       "        text-align: right;\n",
       "    }\n",
       "</style>\n",
       "<table border=\"1\" class=\"dataframe\">\n",
       "  <thead>\n",
       "    <tr style=\"text-align: right;\">\n",
       "      <th></th>\n",
       "      <th>n</th>\n",
       "    </tr>\n",
       "    <tr>\n",
       "      <th>n_gram</th>\n",
       "      <th></th>\n",
       "    </tr>\n",
       "  </thead>\n",
       "  <tbody>\n",
       "    <tr>\n",
       "      <th>learn how to</th>\n",
       "      <td>11</td>\n",
       "    </tr>\n",
       "    <tr>\n",
       "      <th>step by step</th>\n",
       "      <td>9</td>\n",
       "    </tr>\n",
       "    <tr>\n",
       "      <th>how to use</th>\n",
       "      <td>9</td>\n",
       "    </tr>\n",
       "    <tr>\n",
       "      <th>data science in</th>\n",
       "      <td>9</td>\n",
       "    </tr>\n",
       "    <tr>\n",
       "      <th>how to build</th>\n",
       "      <td>8</td>\n",
       "    </tr>\n",
       "    <tr>\n",
       "      <th>using machine learning</th>\n",
       "      <td>8</td>\n",
       "    </tr>\n",
       "    <tr>\n",
       "      <th>one of the</th>\n",
       "      <td>8</td>\n",
       "    </tr>\n",
       "    <tr>\n",
       "      <th>science in the</th>\n",
       "      <td>8</td>\n",
       "    </tr>\n",
       "    <tr>\n",
       "      <th>in the real</th>\n",
       "      <td>8</td>\n",
       "    </tr>\n",
       "    <tr>\n",
       "      <th>the real world</th>\n",
       "      <td>8</td>\n",
       "    </tr>\n",
       "  </tbody>\n",
       "</table>\n",
       "</div>"
      ],
      "text/plain": [
       "                         n\n",
       "n_gram                    \n",
       "learn how to            11\n",
       "step by step             9\n",
       "how to use               9\n",
       "data science in          9\n",
       "how to build             8\n",
       "using machine learning   8\n",
       "one of the               8\n",
       "science in the           8\n",
       "in the real              8\n",
       "the real world           8"
      ]
     },
     "execution_count": 121,
     "metadata": {},
     "output_type": "execute_result"
    }
   ],
   "source": [
    "df_freq_low[df_freq_low.n_gram.str.split().str.len() == 3].sort_values(\"n\")[::-1].head(\n",
    "    10\n",
    ").set_index(\"n_gram\")"
   ]
  },
  {
   "cell_type": "code",
   "execution_count": 122,
   "metadata": {},
   "outputs": [
    {
     "data": {
      "text/html": [
       "<div>\n",
       "<style scoped>\n",
       "    .dataframe tbody tr th:only-of-type {\n",
       "        vertical-align: middle;\n",
       "    }\n",
       "\n",
       "    .dataframe tbody tr th {\n",
       "        vertical-align: top;\n",
       "    }\n",
       "\n",
       "    .dataframe thead th {\n",
       "        text-align: right;\n",
       "    }\n",
       "</style>\n",
       "<table border=\"1\" class=\"dataframe\">\n",
       "  <thead>\n",
       "    <tr style=\"text-align: right;\">\n",
       "      <th></th>\n",
       "      <th>n</th>\n",
       "    </tr>\n",
       "    <tr>\n",
       "      <th>n_gram</th>\n",
       "      <th></th>\n",
       "    </tr>\n",
       "  </thead>\n",
       "  <tbody>\n",
       "    <tr>\n",
       "      <th>step by step</th>\n",
       "      <td>33</td>\n",
       "    </tr>\n",
       "    <tr>\n",
       "      <th>learn how to</th>\n",
       "      <td>28</td>\n",
       "    </tr>\n",
       "    <tr>\n",
       "      <th>how to use</th>\n",
       "      <td>26</td>\n",
       "    </tr>\n",
       "    <tr>\n",
       "      <th>one of the</th>\n",
       "      <td>23</td>\n",
       "    </tr>\n",
       "    <tr>\n",
       "      <th>of the most</th>\n",
       "      <td>22</td>\n",
       "    </tr>\n",
       "    <tr>\n",
       "      <th>on how to</th>\n",
       "      <td>22</td>\n",
       "    </tr>\n",
       "    <tr>\n",
       "      <th>you need to</th>\n",
       "      <td>16</td>\n",
       "    </tr>\n",
       "    <tr>\n",
       "      <th>by step guide</th>\n",
       "      <td>16</td>\n",
       "    </tr>\n",
       "    <tr>\n",
       "      <th>an introduction to</th>\n",
       "      <td>13</td>\n",
       "    </tr>\n",
       "    <tr>\n",
       "      <th>need to know</th>\n",
       "      <td>12</td>\n",
       "    </tr>\n",
       "  </tbody>\n",
       "</table>\n",
       "</div>"
      ],
      "text/plain": [
       "                     n\n",
       "n_gram                \n",
       "step by step        33\n",
       "learn how to        28\n",
       "how to use          26\n",
       "one of the          23\n",
       "of the most         22\n",
       "on how to           22\n",
       "you need to         16\n",
       "by step guide       16\n",
       "an introduction to  13\n",
       "need to know        12"
      ]
     },
     "execution_count": 122,
     "metadata": {},
     "output_type": "execute_result"
    }
   ],
   "source": [
    "df_freq_up[df_freq_up.n_gram.str.split().str.len() == 3].sort_values(\"n\")[::-1].head(10).set_index(\n",
    "    \"n_gram\"\n",
    ")"
   ]
  },
  {
   "cell_type": "code",
   "execution_count": 123,
   "metadata": {},
   "outputs": [
    {
     "data": {
      "text/plain": [
       "<matplotlib.axes._subplots.AxesSubplot at 0x12dc69ef0>"
      ]
     },
     "execution_count": 123,
     "metadata": {},
     "output_type": "execute_result"
    },
    {
     "data": {
      "image/png": "[encoded data removed]",
      "text/plain": [
       "<Figure size 1512x504 with 2 Axes>"
      ]
     },
     "metadata": {},
     "output_type": "display_data"
    }
   ],
   "source": [
    "fig, ax = plt.subplots(1, 2, figsize=(21, 7))\n",
    "fig.suptitle(\"Number of words in a subtitle\", fontsize=16)\n",
    "\n",
    "ax[0].set_title(\"Underperformers\")\n",
    "\n",
    "df_low.subtitle_list.str.len().plot.box(ax=ax[0])\n",
    "\n",
    "ax[1].set_title(\"Overperformers\")\n",
    "df_up.subtitle_list.str.len().plot.box(ax=ax[1])"
   ]
  },
  {
   "cell_type": "code",
   "execution_count": null,
   "metadata": {},
   "outputs": [],
   "source": [
    "d"
   ]
  },
  {
   "cell_type": "code",
   "execution_count": null,
   "metadata": {},
   "outputs": [],
   "source": []
  },
  {
   "cell_type": "code",
   "execution_count": null,
   "metadata": {},
   "outputs": [],
   "source": []
  },
  {
   "cell_type": "code",
   "execution_count": null,
   "metadata": {},
   "outputs": [],
   "source": []
  },
  {
   "cell_type": "code",
   "execution_count": null,
   "metadata": {},
   "outputs": [],
   "source": []
  },
  {
   "cell_type": "code",
   "execution_count": null,
   "metadata": {},
   "outputs": [],
   "source": []
  },
  {
   "cell_type": "code",
   "execution_count": null,
   "metadata": {},
   "outputs": [],
   "source": []
  },
  {
   "cell_type": "code",
   "execution_count": null,
   "metadata": {},
   "outputs": [],
   "source": []
  },
  {
   "cell_type": "code",
   "execution_count": null,
   "metadata": {},
   "outputs": [],
   "source": []
  },
  {
   "cell_type": "code",
   "execution_count": 164,
   "metadata": {},
   "outputs": [
    {
     "data": {
      "text/plain": [
       "<matplotlib.axes._subplots.AxesSubplot at 0x12ddc90b8>"
      ]
     },
     "execution_count": 164,
     "metadata": {},
     "output_type": "execute_result"
    },
    {
     "data": {
      "image/png": "[encoded data removed]",
      "text/plain": [
       "<Figure size 1512x504 with 2 Axes>"
      ]
     },
     "metadata": {},
     "output_type": "display_data"
    }
   ],
   "source": [
    "fig, ax = plt.subplots(1, 2, figsize=(21, 7))\n",
    "fig.suptitle(\"Publish day of the article\", fontsize=16)\n",
    "\n",
    "ax[0].set_title(\"Underperformers\")\n",
    "df_low.day.value_counts().plot.bar(ax=ax[0])\n",
    "\n",
    "ax[1].set_title(\"Overperformers\")\n",
    "df_up.day.value_counts().plot.bar(ax=ax[1])"
   ]
  },
  {
   "cell_type": "code",
   "execution_count": 162,
   "metadata": {},
   "outputs": [
    {
     "data": {
      "text/plain": [
       "<matplotlib.axes._subplots.AxesSubplot at 0x12e9f56d8>"
      ]
     },
     "execution_count": 162,
     "metadata": {},
     "output_type": "execute_result"
    },
    {
     "data": {
      "image/png": "[encoded data removed]",
      "text/plain": [
       "<Figure size 432x288 with 1 Axes>"
      ]
     },
     "metadata": {},
     "output_type": "display_data"
    }
   ],
   "source": []
  },
  {
   "cell_type": "code",
   "execution_count": null,
   "metadata": {},
   "outputs": [],
   "source": []
  },
  {
   "cell_type": "code",
   "execution_count": 180,
   "metadata": {},
   "outputs": [
    {
     "data": {
      "text/plain": [
       "<matplotlib.axes._subplots.AxesSubplot at 0x12bbe1eb8>"
      ]
     },
     "execution_count": 180,
     "metadata": {},
     "output_type": "execute_result"
    },
    {
     "data": {
      "image/png": "[encoded data removed]",
      "text/plain": [
       "<Figure size 1512x504 with 2 Axes>"
      ]
     },
     "metadata": {},
     "output_type": "display_data"
    }
   ],
   "source": [
    "fig, ax = plt.subplots(1, 2, figsize=(21, 7))\n",
    "fig.suptitle(\"Read time distribution of the articles\", fontsize=16)\n",
    "\n",
    "ax[0].set_title(\"Underperformers\")\n",
    "df_low.reading_time.value_counts()[:10].plot.bar(ax=ax[0])\n",
    "\n",
    "ax[1].set_title(\"Overperformers\")\n",
    "df_up.reading_time.value_counts()[:10].plot.bar(ax=ax[1])"
   ]
  },
  {
   "cell_type": "code",
   "execution_count": null,
   "metadata": {},
   "outputs": [],
   "source": []
  }
 ],
 "metadata": {
  "kernelspec": {
   "display_name": "Python 3",
   "language": "python",
   "name": "python3"
  },
  "language_info": {
   "codemirror_mode": {
    "name": "ipython",
    "version": 3
   },
   "file_extension": ".py",
   "mimetype": "text/x-python",
   "name": "python",
   "nbconvert_exporter": "python",
   "pygments_lexer": "ipython3",
   "version": "3.7.3"
  }
 },
 "nbformat": 4,
 "nbformat_minor": 4
}
